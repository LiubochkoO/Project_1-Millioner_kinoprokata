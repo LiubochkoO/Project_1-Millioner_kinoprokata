{
 "cells": [
  {
   "cell_type": "code",
   "execution_count": 1,
   "metadata": {
    "_cell_guid": "b1076dfc-b9ad-4769-8c92-a6c4dae69d19",
    "_uuid": "8f2839f25d086af736a60e9eeb907d3b93b6e0e5",
    "colab": {},
    "colab_type": "code",
    "id": "U2D2gTdJVp90"
   },
   "outputs": [],
   "source": [
    "import numpy as np\n",
    "import pandas as pd\n",
    "import seaborn as sns\n",
    "import matplotlib.pyplot as plt\n",
    "from collections import Counter"
   ]
  },
  {
   "cell_type": "code",
   "execution_count": 2,
   "metadata": {
    "_cell_guid": "79c7e3d0-c299-4dcb-8224-4455121ee9b0",
    "_uuid": "d629ff2d2480ee46fbb7e2d37f6b5fab8052498a",
    "colab": {},
    "colab_type": "code",
    "id": "oyGfxL3eVp9-"
   },
   "outputs": [
    {
     "data": {
      "text/html": [
       "<div>\n",
       "<style scoped>\n",
       "    .dataframe tbody tr th:only-of-type {\n",
       "        vertical-align: middle;\n",
       "    }\n",
       "\n",
       "    .dataframe tbody tr th {\n",
       "        vertical-align: top;\n",
       "    }\n",
       "\n",
       "    .dataframe thead th {\n",
       "        text-align: right;\n",
       "    }\n",
       "</style>\n",
       "<table border=\"1\" class=\"dataframe\">\n",
       "  <thead>\n",
       "    <tr style=\"text-align: right;\">\n",
       "      <th></th>\n",
       "      <th>imdb_id</th>\n",
       "      <th>budget</th>\n",
       "      <th>revenue</th>\n",
       "      <th>original_title</th>\n",
       "      <th>cast</th>\n",
       "      <th>director</th>\n",
       "      <th>tagline</th>\n",
       "      <th>overview</th>\n",
       "      <th>runtime</th>\n",
       "      <th>genres</th>\n",
       "      <th>production_companies</th>\n",
       "      <th>release_date</th>\n",
       "      <th>vote_average</th>\n",
       "      <th>release_year</th>\n",
       "    </tr>\n",
       "  </thead>\n",
       "  <tbody>\n",
       "    <tr>\n",
       "      <th>362</th>\n",
       "      <td>tt1100119</td>\n",
       "      <td>40000000</td>\n",
       "      <td>28972508</td>\n",
       "      <td>Shorts</td>\n",
       "      <td>Jimmy Bennett|Kat Dennings|Jolie Vanier|Willia...</td>\n",
       "      <td>Robert Rodriguez</td>\n",
       "      <td>Not So TALL Tales From The Director Of 'Spy Kids'</td>\n",
       "      <td>A young boy's discovery of a colorful, wish-gr...</td>\n",
       "      <td>89</td>\n",
       "      <td>Comedy|Family</td>\n",
       "      <td>Warner Bros. Pictures</td>\n",
       "      <td>8/21/2009</td>\n",
       "      <td>4.8</td>\n",
       "      <td>2009</td>\n",
       "    </tr>\n",
       "    <tr>\n",
       "      <th>613</th>\n",
       "      <td>tt0411477</td>\n",
       "      <td>85000000</td>\n",
       "      <td>160388063</td>\n",
       "      <td>Hellboy II: The Golden Army</td>\n",
       "      <td>Ron Perlman|Selma Blair|Jeffrey Tambor|Doug Jo...</td>\n",
       "      <td>Guillermo del Toro</td>\n",
       "      <td>Saving the world is a hell of a job.</td>\n",
       "      <td>In this continuation to the adventure of the d...</td>\n",
       "      <td>120</td>\n",
       "      <td>Adventure|Fantasy|Science Fiction</td>\n",
       "      <td>Universal Pictures|Dark Horse Entertainment|La...</td>\n",
       "      <td>7/11/2008</td>\n",
       "      <td>6.4</td>\n",
       "      <td>2008</td>\n",
       "    </tr>\n",
       "    <tr>\n",
       "      <th>903</th>\n",
       "      <td>tt0278504</td>\n",
       "      <td>46000000</td>\n",
       "      <td>113714830</td>\n",
       "      <td>Insomnia</td>\n",
       "      <td>Al Pacino|Robin Williams|Maura Tierney|Hilary ...</td>\n",
       "      <td>Christopher Nolan</td>\n",
       "      <td>A tough cop. A brilliant killer. An unspeakabl...</td>\n",
       "      <td>Two Los Angeles homicide detectives are dispat...</td>\n",
       "      <td>118</td>\n",
       "      <td>Crime|Mystery|Thriller</td>\n",
       "      <td>Section Eight|Alcon Entertainment|Witt/Thomas ...</td>\n",
       "      <td>5/24/2002</td>\n",
       "      <td>6.6</td>\n",
       "      <td>2002</td>\n",
       "    </tr>\n",
       "    <tr>\n",
       "      <th>186</th>\n",
       "      <td>tt0864835</td>\n",
       "      <td>145000000</td>\n",
       "      <td>272912430</td>\n",
       "      <td>Mr. Peabody &amp; Sherman</td>\n",
       "      <td>Ty Burrell|Max Charles|Ariel Winter|Allison Ja...</td>\n",
       "      <td>Rob Minkoff</td>\n",
       "      <td>He's Leaving His Mark On History</td>\n",
       "      <td>A young boy and his dog, who happens to have a...</td>\n",
       "      <td>92</td>\n",
       "      <td>Animation|Adventure|Family</td>\n",
       "      <td>20th Century Fox</td>\n",
       "      <td>2/7/2014</td>\n",
       "      <td>6.8</td>\n",
       "      <td>2014</td>\n",
       "    </tr>\n",
       "    <tr>\n",
       "      <th>1764</th>\n",
       "      <td>tt0463998</td>\n",
       "      <td>21000000</td>\n",
       "      <td>41170784</td>\n",
       "      <td>Freedom Writers</td>\n",
       "      <td>Hilary Swank|Scott Glenn|Imelda Staunton|Patri...</td>\n",
       "      <td>Richard LaGravenese</td>\n",
       "      <td>Their story. Their world. Their future.</td>\n",
       "      <td>A young teacher inspires her class of at-risk ...</td>\n",
       "      <td>123</td>\n",
       "      <td>Crime|Drama</td>\n",
       "      <td>Double Feature Films|Jersey Films|Kernos Filmp...</td>\n",
       "      <td>1/5/2007</td>\n",
       "      <td>7.5</td>\n",
       "      <td>2007</td>\n",
       "    </tr>\n",
       "  </tbody>\n",
       "</table>\n",
       "</div>"
      ],
      "text/plain": [
       "        imdb_id     budget    revenue               original_title  \\\n",
       "362   tt1100119   40000000   28972508                       Shorts   \n",
       "613   tt0411477   85000000  160388063  Hellboy II: The Golden Army   \n",
       "903   tt0278504   46000000  113714830                     Insomnia   \n",
       "186   tt0864835  145000000  272912430        Mr. Peabody & Sherman   \n",
       "1764  tt0463998   21000000   41170784              Freedom Writers   \n",
       "\n",
       "                                                   cast             director  \\\n",
       "362   Jimmy Bennett|Kat Dennings|Jolie Vanier|Willia...     Robert Rodriguez   \n",
       "613   Ron Perlman|Selma Blair|Jeffrey Tambor|Doug Jo...   Guillermo del Toro   \n",
       "903   Al Pacino|Robin Williams|Maura Tierney|Hilary ...    Christopher Nolan   \n",
       "186   Ty Burrell|Max Charles|Ariel Winter|Allison Ja...          Rob Minkoff   \n",
       "1764  Hilary Swank|Scott Glenn|Imelda Staunton|Patri...  Richard LaGravenese   \n",
       "\n",
       "                                                tagline  \\\n",
       "362   Not So TALL Tales From The Director Of 'Spy Kids'   \n",
       "613                Saving the world is a hell of a job.   \n",
       "903   A tough cop. A brilliant killer. An unspeakabl...   \n",
       "186                    He's Leaving His Mark On History   \n",
       "1764            Their story. Their world. Their future.   \n",
       "\n",
       "                                               overview  runtime  \\\n",
       "362   A young boy's discovery of a colorful, wish-gr...       89   \n",
       "613   In this continuation to the adventure of the d...      120   \n",
       "903   Two Los Angeles homicide detectives are dispat...      118   \n",
       "186   A young boy and his dog, who happens to have a...       92   \n",
       "1764  A young teacher inspires her class of at-risk ...      123   \n",
       "\n",
       "                                 genres  \\\n",
       "362                       Comedy|Family   \n",
       "613   Adventure|Fantasy|Science Fiction   \n",
       "903              Crime|Mystery|Thriller   \n",
       "186          Animation|Adventure|Family   \n",
       "1764                        Crime|Drama   \n",
       "\n",
       "                                   production_companies release_date  \\\n",
       "362                               Warner Bros. Pictures    8/21/2009   \n",
       "613   Universal Pictures|Dark Horse Entertainment|La...    7/11/2008   \n",
       "903   Section Eight|Alcon Entertainment|Witt/Thomas ...    5/24/2002   \n",
       "186                                    20th Century Fox     2/7/2014   \n",
       "1764  Double Feature Films|Jersey Films|Kernos Filmp...     1/5/2007   \n",
       "\n",
       "      vote_average  release_year  \n",
       "362            4.8          2009  \n",
       "613            6.4          2008  \n",
       "903            6.6          2002  \n",
       "186            6.8          2014  \n",
       "1764           7.5          2007  "
      ]
     },
     "execution_count": 2,
     "metadata": {},
     "output_type": "execute_result"
    }
   ],
   "source": [
    "data = pd.read_csv('movie_bd_v5.csv')\n",
    "data.sample(5)"
   ]
  },
  {
   "cell_type": "code",
   "execution_count": 3,
   "metadata": {
    "colab": {},
    "colab_type": "code",
    "id": "CoYUnagMVp-C"
   },
   "outputs": [
    {
     "data": {
      "text/html": [
       "<div>\n",
       "<style scoped>\n",
       "    .dataframe tbody tr th:only-of-type {\n",
       "        vertical-align: middle;\n",
       "    }\n",
       "\n",
       "    .dataframe tbody tr th {\n",
       "        vertical-align: top;\n",
       "    }\n",
       "\n",
       "    .dataframe thead th {\n",
       "        text-align: right;\n",
       "    }\n",
       "</style>\n",
       "<table border=\"1\" class=\"dataframe\">\n",
       "  <thead>\n",
       "    <tr style=\"text-align: right;\">\n",
       "      <th></th>\n",
       "      <th>budget</th>\n",
       "      <th>revenue</th>\n",
       "      <th>runtime</th>\n",
       "      <th>vote_average</th>\n",
       "      <th>release_year</th>\n",
       "    </tr>\n",
       "  </thead>\n",
       "  <tbody>\n",
       "    <tr>\n",
       "      <th>count</th>\n",
       "      <td>1.889000e+03</td>\n",
       "      <td>1.889000e+03</td>\n",
       "      <td>1889.000000</td>\n",
       "      <td>1889.000000</td>\n",
       "      <td>1889.000000</td>\n",
       "    </tr>\n",
       "    <tr>\n",
       "      <th>mean</th>\n",
       "      <td>5.431083e+07</td>\n",
       "      <td>1.553653e+08</td>\n",
       "      <td>109.658549</td>\n",
       "      <td>6.140762</td>\n",
       "      <td>2007.860773</td>\n",
       "    </tr>\n",
       "    <tr>\n",
       "      <th>std</th>\n",
       "      <td>4.858721e+07</td>\n",
       "      <td>2.146698e+08</td>\n",
       "      <td>18.017041</td>\n",
       "      <td>0.764763</td>\n",
       "      <td>4.468841</td>\n",
       "    </tr>\n",
       "    <tr>\n",
       "      <th>min</th>\n",
       "      <td>5.000000e+06</td>\n",
       "      <td>2.033165e+06</td>\n",
       "      <td>63.000000</td>\n",
       "      <td>3.300000</td>\n",
       "      <td>2000.000000</td>\n",
       "    </tr>\n",
       "    <tr>\n",
       "      <th>25%</th>\n",
       "      <td>2.000000e+07</td>\n",
       "      <td>3.456058e+07</td>\n",
       "      <td>97.000000</td>\n",
       "      <td>5.600000</td>\n",
       "      <td>2004.000000</td>\n",
       "    </tr>\n",
       "    <tr>\n",
       "      <th>50%</th>\n",
       "      <td>3.800000e+07</td>\n",
       "      <td>8.361541e+07</td>\n",
       "      <td>107.000000</td>\n",
       "      <td>6.100000</td>\n",
       "      <td>2008.000000</td>\n",
       "    </tr>\n",
       "    <tr>\n",
       "      <th>75%</th>\n",
       "      <td>7.200000e+07</td>\n",
       "      <td>1.782626e+08</td>\n",
       "      <td>120.000000</td>\n",
       "      <td>6.600000</td>\n",
       "      <td>2012.000000</td>\n",
       "    </tr>\n",
       "    <tr>\n",
       "      <th>max</th>\n",
       "      <td>3.800000e+08</td>\n",
       "      <td>2.781506e+09</td>\n",
       "      <td>214.000000</td>\n",
       "      <td>8.100000</td>\n",
       "      <td>2015.000000</td>\n",
       "    </tr>\n",
       "  </tbody>\n",
       "</table>\n",
       "</div>"
      ],
      "text/plain": [
       "             budget       revenue      runtime  vote_average  release_year\n",
       "count  1.889000e+03  1.889000e+03  1889.000000   1889.000000   1889.000000\n",
       "mean   5.431083e+07  1.553653e+08   109.658549      6.140762   2007.860773\n",
       "std    4.858721e+07  2.146698e+08    18.017041      0.764763      4.468841\n",
       "min    5.000000e+06  2.033165e+06    63.000000      3.300000   2000.000000\n",
       "25%    2.000000e+07  3.456058e+07    97.000000      5.600000   2004.000000\n",
       "50%    3.800000e+07  8.361541e+07   107.000000      6.100000   2008.000000\n",
       "75%    7.200000e+07  1.782626e+08   120.000000      6.600000   2012.000000\n",
       "max    3.800000e+08  2.781506e+09   214.000000      8.100000   2015.000000"
      ]
     },
     "execution_count": 3,
     "metadata": {},
     "output_type": "execute_result"
    }
   ],
   "source": [
    "data.describe()"
   ]
  },
  {
   "cell_type": "code",
   "execution_count": 610,
   "metadata": {},
   "outputs": [
    {
     "name": "stdout",
     "output_type": "stream",
     "text": [
      "<class 'pandas.core.frame.DataFrame'>\n",
      "RangeIndex: 1889 entries, 0 to 1888\n",
      "Data columns (total 14 columns):\n",
      " #   Column                Non-Null Count  Dtype  \n",
      "---  ------                --------------  -----  \n",
      " 0   imdb_id               1889 non-null   object \n",
      " 1   budget                1889 non-null   int64  \n",
      " 2   revenue               1889 non-null   int64  \n",
      " 3   original_title        1889 non-null   object \n",
      " 4   cast                  1889 non-null   object \n",
      " 5   director              1889 non-null   object \n",
      " 6   tagline               1889 non-null   object \n",
      " 7   overview              1889 non-null   object \n",
      " 8   runtime               1889 non-null   int64  \n",
      " 9   genres                1889 non-null   object \n",
      " 10  production_companies  1889 non-null   object \n",
      " 11  release_date          1889 non-null   object \n",
      " 12  vote_average          1889 non-null   float64\n",
      " 13  release_year          1889 non-null   int64  \n",
      "dtypes: float64(1), int64(4), object(9)\n",
      "memory usage: 206.7+ KB\n"
     ]
    }
   ],
   "source": [
    "data.info()"
   ]
  },
  {
   "cell_type": "markdown",
   "metadata": {
    "colab_type": "text",
    "id": "DTIt7ezGVp-G"
   },
   "source": [
    "# Предобработка"
   ]
  },
  {
   "cell_type": "code",
   "execution_count": 744,
   "metadata": {
    "colab": {},
    "colab_type": "code",
    "id": "jNb40DwKVp-H"
   },
   "outputs": [],
   "source": [
    "answers = {} # создадим словарь для ответов\n",
    "\n",
    "# тут другие ваши предобработки колонок например:\n",
    "\n",
    "#the time given in the dataset is in string format.\n",
    "#So we need to change this in datetime format\n",
    "# ..."
   ]
  },
  {
   "cell_type": "markdown",
   "metadata": {
    "colab_type": "text",
    "id": "YxZaH-nPVp-L"
   },
   "source": [
    "# 1. У какого фильма из списка самый большой бюджет?"
   ]
  },
  {
   "cell_type": "markdown",
   "metadata": {
    "colab_type": "text",
    "id": "Nd-G5gX6Vp-M"
   },
   "source": [
    "Использовать варианты ответов в коде решения запрещено.    \n",
    "Вы думаете и в жизни у вас будут варианты ответов?)"
   ]
  },
  {
   "cell_type": "code",
   "execution_count": 745,
   "metadata": {
    "colab": {},
    "colab_type": "code",
    "id": "uVnXAY5RVp-O"
   },
   "outputs": [],
   "source": [
    "# в словарь вставляем номер вопроса и ваш ответ на него\n",
    "# Пример: \n",
    "answers['1'] = '2. Spider-Man 3 (tt0413300)'\n",
    "# запишите свой вариант ответа\n",
    "answers['1'] = '5. Pirates of the Caribbean: On Stranger Tides (tt1298650)'\n",
    "# если ответили верно, можете добавить комментарий со значком \"+\""
   ]
  },
  {
   "cell_type": "code",
   "execution_count": 24,
   "metadata": {
    "colab": {},
    "colab_type": "code",
    "id": "dZwb3m28Vp-S"
   },
   "outputs": [
    {
     "data": {
      "text/plain": [
       "original_title\n",
       "Pirates of the Caribbean: On Stranger Tides    380000000\n",
       "Pirates of the Caribbean: At World's End       300000000\n",
       "Avengers: Age of Ultron                        280000000\n",
       "Tangled                                        260000000\n",
       "John Carter                                    260000000\n",
       "                                                 ...    \n",
       "Spring Breakers                                  5000000\n",
       "The Last Exorcism Part II                        5000000\n",
       "Apollo 18                                        5000000\n",
       "Paranormal Activity: The Marked Ones             5000000\n",
       "Clerks II                                        5000000\n",
       "Name: budget, Length: 1887, dtype: int64"
      ]
     },
     "execution_count": 24,
     "metadata": {},
     "output_type": "execute_result"
    }
   ],
   "source": [
    "# тут пишем ваш код для решения данного вопроса:\n",
    "data.groupby(['original_title'])['budget'].max().sort_values(ascending=False)"
   ]
  },
  {
   "cell_type": "code",
   "execution_count": 25,
   "metadata": {},
   "outputs": [
    {
     "data": {
      "text/plain": [
       "imdb_id\n",
       "tt1298650    380000000\n",
       "tt0449088    300000000\n",
       "tt2395427    280000000\n",
       "tt0401729    260000000\n",
       "tt0398286    260000000\n",
       "               ...    \n",
       "tt0283111      5000000\n",
       "tt0289043      5000000\n",
       "tt2101441      5000000\n",
       "tt2870612      5000000\n",
       "tt4178092      5000000\n",
       "Name: budget, Length: 1889, dtype: int64"
      ]
     },
     "execution_count": 25,
     "metadata": {},
     "output_type": "execute_result"
    }
   ],
   "source": [
    "data.groupby(['imdb_id'])['budget'].max().sort_values(ascending=False)"
   ]
  },
  {
   "cell_type": "markdown",
   "metadata": {
    "colab_type": "text",
    "id": "K7L3nbRXVp-X"
   },
   "source": [
    "ВАРИАНТ 2"
   ]
  },
  {
   "cell_type": "code",
   "execution_count": null,
   "metadata": {},
   "outputs": [],
   "source": []
  },
  {
   "cell_type": "markdown",
   "metadata": {
    "colab_type": "text",
    "id": "FNRbbI3vVp-c"
   },
   "source": [
    "# 2. Какой из фильмов самый длительный (в минутах)?"
   ]
  },
  {
   "cell_type": "code",
   "execution_count": 746,
   "metadata": {
    "colab": {},
    "colab_type": "code",
    "id": "vHAoEXNTVp-d"
   },
   "outputs": [],
   "source": [
    "# думаю логику работы с этим словарем вы уже поняли, \n",
    "# по этому не буду больше его дублировать\n",
    "answers['2'] = '2. Gods and Generals (tt0279111)'"
   ]
  },
  {
   "cell_type": "code",
   "execution_count": 33,
   "metadata": {
    "colab": {},
    "colab_type": "code",
    "id": "ot-VX2XrVp-g"
   },
   "outputs": [
    {
     "data": {
      "text/plain": [
       "original_title\n",
       "Gods and Generals                                214\n",
       "The Lord of the Rings: The Return of the King    201\n",
       "Grindhouse                                       191\n",
       "King Kong                                        187\n",
       "Pearl Harbor                                     183\n",
       "                                                ... \n",
       "Valiant                                           76\n",
       "Home on the Range                                 76\n",
       "The Jungle Book 2                                 72\n",
       "Return to Never Land                              72\n",
       "Winnie the Pooh                                   63\n",
       "Name: runtime, Length: 1887, dtype: int64"
      ]
     },
     "execution_count": 33,
     "metadata": {},
     "output_type": "execute_result"
    }
   ],
   "source": [
    "data_2 = data.groupby(['original_title'])['runtime'].max().sort_values(ascending = False)\n",
    "data_2"
   ]
  },
  {
   "cell_type": "code",
   "execution_count": 30,
   "metadata": {},
   "outputs": [
    {
     "data": {
      "text/plain": [
       "imdb_id\n",
       "tt0279111    214\n",
       "tt0167260    201\n",
       "tt0462322    191\n",
       "tt0360717    187\n",
       "tt0213149    183\n",
       "            ... \n",
       "tt0361089     76\n",
       "tt0299172     76\n",
       "tt0283426     72\n",
       "tt0280030     72\n",
       "tt1449283     63\n",
       "Name: runtime, Length: 1889, dtype: int64"
      ]
     },
     "execution_count": 30,
     "metadata": {},
     "output_type": "execute_result"
    }
   ],
   "source": [
    "data_2 = data.groupby(['imdb_id'])['runtime'].max().sort_values(ascending = False)\n",
    "data_2"
   ]
  },
  {
   "cell_type": "markdown",
   "metadata": {
    "colab_type": "text",
    "id": "bapLlpW8Vp-k"
   },
   "source": [
    "# 3. Какой из фильмов самый короткий (в минутах)?\n",
    "\n",
    "\n",
    "\n"
   ]
  },
  {
   "cell_type": "code",
   "execution_count": 747,
   "metadata": {},
   "outputs": [],
   "source": [
    "answers['3'] = '3. Winnie the Pooh (tt1449283)'"
   ]
  },
  {
   "cell_type": "code",
   "execution_count": 34,
   "metadata": {
    "colab": {},
    "colab_type": "code",
    "id": "YBxaSHuAVp-l"
   },
   "outputs": [
    {
     "data": {
      "text/plain": [
       "original_title\n",
       "Gods and Generals                                214\n",
       "The Lord of the Rings: The Return of the King    201\n",
       "Grindhouse                                       191\n",
       "King Kong                                        187\n",
       "Pearl Harbor                                     183\n",
       "                                                ... \n",
       "Valiant                                           76\n",
       "Home on the Range                                 76\n",
       "The Jungle Book 2                                 72\n",
       "Return to Never Land                              72\n",
       "Winnie the Pooh                                   63\n",
       "Name: runtime, Length: 1887, dtype: int64"
      ]
     },
     "execution_count": 34,
     "metadata": {},
     "output_type": "execute_result"
    }
   ],
   "source": [
    "data_3 = data.groupby(['original_title'])['runtime'].min().sort_values(ascending = False)\n",
    "data_3"
   ]
  },
  {
   "cell_type": "code",
   "execution_count": 35,
   "metadata": {},
   "outputs": [
    {
     "data": {
      "text/plain": [
       "imdb_id\n",
       "tt0279111    214\n",
       "tt0167260    201\n",
       "tt0462322    191\n",
       "tt0360717    187\n",
       "tt0213149    183\n",
       "            ... \n",
       "tt0361089     76\n",
       "tt0299172     76\n",
       "tt0283426     72\n",
       "tt0280030     72\n",
       "tt1449283     63\n",
       "Name: runtime, Length: 1889, dtype: int64"
      ]
     },
     "execution_count": 35,
     "metadata": {},
     "output_type": "execute_result"
    }
   ],
   "source": [
    "data_3 = data.groupby(['imdb_id'])['runtime'].min().sort_values(ascending = False)\n",
    "data_3"
   ]
  },
  {
   "cell_type": "markdown",
   "metadata": {
    "colab_type": "text",
    "id": "TfQbxbfNVp-p"
   },
   "source": [
    "# 4. Какова средняя длительность фильмов?\n"
   ]
  },
  {
   "cell_type": "code",
   "execution_count": 748,
   "metadata": {
    "colab": {},
    "colab_type": "code",
    "id": "5K6dKZYVVp-q"
   },
   "outputs": [],
   "source": [
    "answers['4'] = '2. 110'"
   ]
  },
  {
   "cell_type": "code",
   "execution_count": 42,
   "metadata": {},
   "outputs": [
    {
     "data": {
      "text/plain": [
       "109.6585494970884"
      ]
     },
     "execution_count": 42,
     "metadata": {},
     "output_type": "execute_result"
    }
   ],
   "source": [
    "data['runtime'].mean()"
   ]
  },
  {
   "cell_type": "markdown",
   "metadata": {
    "colab_type": "text",
    "id": "r5TvbnT_Vp-u"
   },
   "source": [
    "# 5. Каково медианное значение длительности фильмов? "
   ]
  },
  {
   "cell_type": "code",
   "execution_count": 749,
   "metadata": {},
   "outputs": [],
   "source": [
    "answers['5'] = '1. 107 '"
   ]
  },
  {
   "cell_type": "code",
   "execution_count": 10,
   "metadata": {
    "colab": {},
    "colab_type": "code",
    "id": "iBROplKnVp-v"
   },
   "outputs": [
    {
     "data": {
      "text/plain": [
       "budget          38000000.0\n",
       "revenue         83615414.0\n",
       "runtime              107.0\n",
       "vote_average           6.1\n",
       "release_year        2008.0\n",
       "dtype: float64"
      ]
     },
     "execution_count": 10,
     "metadata": {},
     "output_type": "execute_result"
    }
   ],
   "source": [
    "data.median(axis = 0)"
   ]
  },
  {
   "cell_type": "markdown",
   "metadata": {
    "colab_type": "text",
    "id": "39P-deDSVp-y"
   },
   "source": [
    "# 6. Какой самый прибыльный фильм?\n",
    "#### Внимание! Здесь и далее под «прибылью» или «убытками» понимается разность между сборами и бюджетом фильма. (прибыль = сборы - бюджет) в нашем датасете это будет (profit = revenue - budget) "
   ]
  },
  {
   "cell_type": "code",
   "execution_count": 0,
   "metadata": {
    "colab": {},
    "colab_type": "code",
    "id": "UYZh4T9WVp-y"
   },
   "outputs": [],
   "source": [
    "# лучше код получения столбца profit вынести в Предобработку что в начале"
   ]
  },
  {
   "cell_type": "code",
   "execution_count": 750,
   "metadata": {},
   "outputs": [],
   "source": [
    "answers['6'] = '5. Avatar'"
   ]
  },
  {
   "cell_type": "code",
   "execution_count": 11,
   "metadata": {},
   "outputs": [
    {
     "data": {
      "text/plain": [
       "239    Avatar\n",
       "Name: original_title, dtype: object"
      ]
     },
     "execution_count": 11,
     "metadata": {},
     "output_type": "execute_result"
    }
   ],
   "source": [
    "data['profit'] = data['revenue'] - data['budget']\n",
    "profit_max = data['profit'].max()\n",
    "film = data[data.profit == profit_max]\n",
    "film['original_title']"
   ]
  },
  {
   "cell_type": "markdown",
   "metadata": {
    "colab_type": "text",
    "id": "M99JmIX4Vp-2"
   },
   "source": [
    "# 7. Какой фильм самый убыточный? "
   ]
  },
  {
   "cell_type": "code",
   "execution_count": 751,
   "metadata": {},
   "outputs": [],
   "source": [
    "answers['7'] = '5. The Lone Ranger'"
   ]
  },
  {
   "cell_type": "code",
   "execution_count": 14,
   "metadata": {
    "colab": {},
    "colab_type": "code",
    "id": "w-D2m4XPVp-3"
   },
   "outputs": [
    {
     "data": {
      "text/plain": [
       "1245    The Lone Ranger\n",
       "Name: original_title, dtype: object"
      ]
     },
     "execution_count": 14,
     "metadata": {},
     "output_type": "execute_result"
    }
   ],
   "source": [
    "data['profit'] = data['revenue'] - data['budget']\n",
    "profit_min = data['profit'].min()\n",
    "film = data[data.profit == profit_min]\n",
    "film['original_title']"
   ]
  },
  {
   "cell_type": "markdown",
   "metadata": {
    "colab_type": "text",
    "id": "wEOM5ERVVp-6"
   },
   "source": [
    "# 8. У скольких фильмов из датасета объем сборов оказался выше бюджета?"
   ]
  },
  {
   "cell_type": "code",
   "execution_count": 752,
   "metadata": {
    "colab": {},
    "colab_type": "code",
    "id": "y00_7HD6Vp-7"
   },
   "outputs": [],
   "source": [
    "answers['8'] = '1. 1478'"
   ]
  },
  {
   "cell_type": "code",
   "execution_count": 38,
   "metadata": {},
   "outputs": [
    {
     "data": {
      "text/plain": [
       "1478"
      ]
     },
     "execution_count": 38,
     "metadata": {},
     "output_type": "execute_result"
    }
   ],
   "source": [
    "data_win = data[data['revenue'] > data['budget']]\n",
    "data_count = len(data_win['revenue'])\n",
    "data_count"
   ]
  },
  {
   "cell_type": "markdown",
   "metadata": {
    "colab_type": "text",
    "id": "xhpspA9KVp_A"
   },
   "source": [
    "# 9. Какой фильм оказался самым кассовым в 2008 году?"
   ]
  },
  {
   "cell_type": "code",
   "execution_count": 753,
   "metadata": {
    "colab": {},
    "colab_type": "code",
    "id": "MoUyQr9RVp_B"
   },
   "outputs": [],
   "source": [
    "answers['9'] = '4. The Dark Knight'"
   ]
  },
  {
   "cell_type": "code",
   "execution_count": 46,
   "metadata": {},
   "outputs": [
    {
     "data": {
      "text/plain": [
       "imdb_id                                                         tt0468569\n",
       "budget                                                          185000000\n",
       "revenue                                                        1001921825\n",
       "original_title                                            The Dark Knight\n",
       "cast                    Christian Bale|Michael Caine|Heath Ledger|Aaro...\n",
       "director                                                Christopher Nolan\n",
       "tagline                                                   Why So Serious?\n",
       "overview                Batman raises the stakes in his war on crime. ...\n",
       "runtime                                                               152\n",
       "genres                                        Drama|Action|Crime|Thriller\n",
       "production_companies    DC Comics|Legendary Pictures|Warner Bros.|Syncopy\n",
       "release_date                                                    7/16/2008\n",
       "vote_average                                                          8.1\n",
       "release_year                                                         2008\n",
       "profit                                                          816921825\n",
       "Name: 599, dtype: object"
      ]
     },
     "execution_count": 46,
     "metadata": {},
     "output_type": "execute_result"
    }
   ],
   "source": [
    "data[data['release_year'] == 2008].sort_values(by='revenue', ascending=False).iloc[0]"
   ]
  },
  {
   "cell_type": "markdown",
   "metadata": {
    "colab_type": "text",
    "id": "Zi4hDKidVp_F"
   },
   "source": [
    "# 10. Самый убыточный фильм за период с 2012 по 2014 г. (включительно)?\n"
   ]
  },
  {
   "cell_type": "code",
   "execution_count": 754,
   "metadata": {
    "colab": {},
    "colab_type": "code",
    "id": "XqyRmufJVp_F"
   },
   "outputs": [],
   "source": [
    "answers['10'] = '5. The Lone Ranger'"
   ]
  },
  {
   "cell_type": "code",
   "execution_count": 56,
   "metadata": {},
   "outputs": [
    {
     "data": {
      "text/plain": [
       "1245    The Lone Ranger\n",
       "Name: original_title, dtype: object"
      ]
     },
     "execution_count": 56,
     "metadata": {},
     "output_type": "execute_result"
    }
   ],
   "source": [
    "data['profit'] = data['revenue'] - data['budget']#вычисляем профит\n",
    "films_2012_2014 =data[data.release_year.between(2012,2014)]# собрали  фильмы 2012_2014 в датафрейм\n",
    "films_2012_2014[(films_2012_2014.profit==films_2012_2014.profit.min())].original_title #выделим название самого убыточного"
   ]
  },
  {
   "cell_type": "markdown",
   "metadata": {
    "colab_type": "text",
    "id": "EA7Sa9dkVp_I"
   },
   "source": [
    "# 11. Какого жанра фильмов больше всего?"
   ]
  },
  {
   "cell_type": "code",
   "execution_count": 0,
   "metadata": {
    "colab": {},
    "colab_type": "code",
    "id": "zsJAwJ8QVp_J"
   },
   "outputs": [],
   "source": [
    "# эту задачу тоже можно решать разными подходами, попробуй реализовать разные варианты\n",
    "# если будешь добавлять функцию - выноси ее в предобработку что в начале"
   ]
  },
  {
   "cell_type": "code",
   "execution_count": 756,
   "metadata": {},
   "outputs": [],
   "source": [
    "answers['11'] = '3. Drama '"
   ]
  },
  {
   "cell_type": "code",
   "execution_count": 251,
   "metadata": {},
   "outputs": [
    {
     "data": {
      "text/plain": [
       "Drama              782\n",
       "Comedy             683\n",
       "Thriller           596\n",
       "Action             582\n",
       "Adventure          415\n",
       "Crime              315\n",
       "Romance            308\n",
       "Family             260\n",
       "Science Fiction    248\n",
       "Fantasy            222\n",
       "Horror             176\n",
       "Mystery            168\n",
       "Animation          139\n",
       "Music               64\n",
       "History             62\n",
       "War                 58\n",
       "Western             19\n",
       "Documentary          8\n",
       "Foreign              2\n",
       "Name: genres, dtype: int64"
      ]
     },
     "execution_count": 251,
     "metadata": {},
     "output_type": "execute_result"
    }
   ],
   "source": [
    "data_11 = data.copy()\n",
    "data_11['genres'] = data_11['genres'].str.split('|')\n",
    "data_11 = data_11.explode('genres')\n",
    "data_11['genres'].value_counts()\n"
   ]
  },
  {
   "cell_type": "code",
   "execution_count": 235,
   "metadata": {},
   "outputs": [
    {
     "data": {
      "text/html": [
       "<div>\n",
       "<style scoped>\n",
       "    .dataframe tbody tr th:only-of-type {\n",
       "        vertical-align: middle;\n",
       "    }\n",
       "\n",
       "    .dataframe tbody tr th {\n",
       "        vertical-align: top;\n",
       "    }\n",
       "\n",
       "    .dataframe thead th {\n",
       "        text-align: right;\n",
       "    }\n",
       "</style>\n",
       "<table border=\"1\" class=\"dataframe\">\n",
       "  <thead>\n",
       "    <tr style=\"text-align: right;\">\n",
       "      <th></th>\n",
       "      <th>imdb_id</th>\n",
       "      <th>budget</th>\n",
       "      <th>revenue</th>\n",
       "      <th>original_title</th>\n",
       "      <th>cast</th>\n",
       "      <th>director</th>\n",
       "      <th>tagline</th>\n",
       "      <th>overview</th>\n",
       "      <th>runtime</th>\n",
       "      <th>production_companies</th>\n",
       "      <th>release_date</th>\n",
       "      <th>vote_average</th>\n",
       "      <th>release_year</th>\n",
       "    </tr>\n",
       "    <tr>\n",
       "      <th>genres</th>\n",
       "      <th></th>\n",
       "      <th></th>\n",
       "      <th></th>\n",
       "      <th></th>\n",
       "      <th></th>\n",
       "      <th></th>\n",
       "      <th></th>\n",
       "      <th></th>\n",
       "      <th></th>\n",
       "      <th></th>\n",
       "      <th></th>\n",
       "      <th></th>\n",
       "      <th></th>\n",
       "    </tr>\n",
       "  </thead>\n",
       "  <tbody>\n",
       "    <tr>\n",
       "      <th>Action</th>\n",
       "      <td>582</td>\n",
       "      <td>582</td>\n",
       "      <td>582</td>\n",
       "      <td>582</td>\n",
       "      <td>582</td>\n",
       "      <td>582</td>\n",
       "      <td>582</td>\n",
       "      <td>582</td>\n",
       "      <td>582</td>\n",
       "      <td>582</td>\n",
       "      <td>582</td>\n",
       "      <td>582</td>\n",
       "      <td>582</td>\n",
       "    </tr>\n",
       "    <tr>\n",
       "      <th>Adventure</th>\n",
       "      <td>415</td>\n",
       "      <td>415</td>\n",
       "      <td>415</td>\n",
       "      <td>415</td>\n",
       "      <td>415</td>\n",
       "      <td>415</td>\n",
       "      <td>415</td>\n",
       "      <td>415</td>\n",
       "      <td>415</td>\n",
       "      <td>415</td>\n",
       "      <td>415</td>\n",
       "      <td>415</td>\n",
       "      <td>415</td>\n",
       "    </tr>\n",
       "    <tr>\n",
       "      <th>Animation</th>\n",
       "      <td>139</td>\n",
       "      <td>139</td>\n",
       "      <td>139</td>\n",
       "      <td>139</td>\n",
       "      <td>139</td>\n",
       "      <td>139</td>\n",
       "      <td>139</td>\n",
       "      <td>139</td>\n",
       "      <td>139</td>\n",
       "      <td>139</td>\n",
       "      <td>139</td>\n",
       "      <td>139</td>\n",
       "      <td>139</td>\n",
       "    </tr>\n",
       "    <tr>\n",
       "      <th>Comedy</th>\n",
       "      <td>683</td>\n",
       "      <td>683</td>\n",
       "      <td>683</td>\n",
       "      <td>683</td>\n",
       "      <td>683</td>\n",
       "      <td>683</td>\n",
       "      <td>683</td>\n",
       "      <td>683</td>\n",
       "      <td>683</td>\n",
       "      <td>683</td>\n",
       "      <td>683</td>\n",
       "      <td>683</td>\n",
       "      <td>683</td>\n",
       "    </tr>\n",
       "    <tr>\n",
       "      <th>Crime</th>\n",
       "      <td>315</td>\n",
       "      <td>315</td>\n",
       "      <td>315</td>\n",
       "      <td>315</td>\n",
       "      <td>315</td>\n",
       "      <td>315</td>\n",
       "      <td>315</td>\n",
       "      <td>315</td>\n",
       "      <td>315</td>\n",
       "      <td>315</td>\n",
       "      <td>315</td>\n",
       "      <td>315</td>\n",
       "      <td>315</td>\n",
       "    </tr>\n",
       "    <tr>\n",
       "      <th>Documentary</th>\n",
       "      <td>8</td>\n",
       "      <td>8</td>\n",
       "      <td>8</td>\n",
       "      <td>8</td>\n",
       "      <td>8</td>\n",
       "      <td>8</td>\n",
       "      <td>8</td>\n",
       "      <td>8</td>\n",
       "      <td>8</td>\n",
       "      <td>8</td>\n",
       "      <td>8</td>\n",
       "      <td>8</td>\n",
       "      <td>8</td>\n",
       "    </tr>\n",
       "    <tr>\n",
       "      <th>Drama</th>\n",
       "      <td>782</td>\n",
       "      <td>782</td>\n",
       "      <td>782</td>\n",
       "      <td>782</td>\n",
       "      <td>782</td>\n",
       "      <td>782</td>\n",
       "      <td>782</td>\n",
       "      <td>782</td>\n",
       "      <td>782</td>\n",
       "      <td>782</td>\n",
       "      <td>782</td>\n",
       "      <td>782</td>\n",
       "      <td>782</td>\n",
       "    </tr>\n",
       "    <tr>\n",
       "      <th>Family</th>\n",
       "      <td>260</td>\n",
       "      <td>260</td>\n",
       "      <td>260</td>\n",
       "      <td>260</td>\n",
       "      <td>260</td>\n",
       "      <td>260</td>\n",
       "      <td>260</td>\n",
       "      <td>260</td>\n",
       "      <td>260</td>\n",
       "      <td>260</td>\n",
       "      <td>260</td>\n",
       "      <td>260</td>\n",
       "      <td>260</td>\n",
       "    </tr>\n",
       "    <tr>\n",
       "      <th>Fantasy</th>\n",
       "      <td>222</td>\n",
       "      <td>222</td>\n",
       "      <td>222</td>\n",
       "      <td>222</td>\n",
       "      <td>222</td>\n",
       "      <td>222</td>\n",
       "      <td>222</td>\n",
       "      <td>222</td>\n",
       "      <td>222</td>\n",
       "      <td>222</td>\n",
       "      <td>222</td>\n",
       "      <td>222</td>\n",
       "      <td>222</td>\n",
       "    </tr>\n",
       "    <tr>\n",
       "      <th>Foreign</th>\n",
       "      <td>2</td>\n",
       "      <td>2</td>\n",
       "      <td>2</td>\n",
       "      <td>2</td>\n",
       "      <td>2</td>\n",
       "      <td>2</td>\n",
       "      <td>2</td>\n",
       "      <td>2</td>\n",
       "      <td>2</td>\n",
       "      <td>2</td>\n",
       "      <td>2</td>\n",
       "      <td>2</td>\n",
       "      <td>2</td>\n",
       "    </tr>\n",
       "    <tr>\n",
       "      <th>History</th>\n",
       "      <td>62</td>\n",
       "      <td>62</td>\n",
       "      <td>62</td>\n",
       "      <td>62</td>\n",
       "      <td>62</td>\n",
       "      <td>62</td>\n",
       "      <td>62</td>\n",
       "      <td>62</td>\n",
       "      <td>62</td>\n",
       "      <td>62</td>\n",
       "      <td>62</td>\n",
       "      <td>62</td>\n",
       "      <td>62</td>\n",
       "    </tr>\n",
       "    <tr>\n",
       "      <th>Horror</th>\n",
       "      <td>176</td>\n",
       "      <td>176</td>\n",
       "      <td>176</td>\n",
       "      <td>176</td>\n",
       "      <td>176</td>\n",
       "      <td>176</td>\n",
       "      <td>176</td>\n",
       "      <td>176</td>\n",
       "      <td>176</td>\n",
       "      <td>176</td>\n",
       "      <td>176</td>\n",
       "      <td>176</td>\n",
       "      <td>176</td>\n",
       "    </tr>\n",
       "    <tr>\n",
       "      <th>Music</th>\n",
       "      <td>64</td>\n",
       "      <td>64</td>\n",
       "      <td>64</td>\n",
       "      <td>64</td>\n",
       "      <td>64</td>\n",
       "      <td>64</td>\n",
       "      <td>64</td>\n",
       "      <td>64</td>\n",
       "      <td>64</td>\n",
       "      <td>64</td>\n",
       "      <td>64</td>\n",
       "      <td>64</td>\n",
       "      <td>64</td>\n",
       "    </tr>\n",
       "    <tr>\n",
       "      <th>Mystery</th>\n",
       "      <td>168</td>\n",
       "      <td>168</td>\n",
       "      <td>168</td>\n",
       "      <td>168</td>\n",
       "      <td>168</td>\n",
       "      <td>168</td>\n",
       "      <td>168</td>\n",
       "      <td>168</td>\n",
       "      <td>168</td>\n",
       "      <td>168</td>\n",
       "      <td>168</td>\n",
       "      <td>168</td>\n",
       "      <td>168</td>\n",
       "    </tr>\n",
       "    <tr>\n",
       "      <th>Romance</th>\n",
       "      <td>308</td>\n",
       "      <td>308</td>\n",
       "      <td>308</td>\n",
       "      <td>308</td>\n",
       "      <td>308</td>\n",
       "      <td>308</td>\n",
       "      <td>308</td>\n",
       "      <td>308</td>\n",
       "      <td>308</td>\n",
       "      <td>308</td>\n",
       "      <td>308</td>\n",
       "      <td>308</td>\n",
       "      <td>308</td>\n",
       "    </tr>\n",
       "    <tr>\n",
       "      <th>Science Fiction</th>\n",
       "      <td>248</td>\n",
       "      <td>248</td>\n",
       "      <td>248</td>\n",
       "      <td>248</td>\n",
       "      <td>248</td>\n",
       "      <td>248</td>\n",
       "      <td>248</td>\n",
       "      <td>248</td>\n",
       "      <td>248</td>\n",
       "      <td>248</td>\n",
       "      <td>248</td>\n",
       "      <td>248</td>\n",
       "      <td>248</td>\n",
       "    </tr>\n",
       "    <tr>\n",
       "      <th>Thriller</th>\n",
       "      <td>596</td>\n",
       "      <td>596</td>\n",
       "      <td>596</td>\n",
       "      <td>596</td>\n",
       "      <td>596</td>\n",
       "      <td>596</td>\n",
       "      <td>596</td>\n",
       "      <td>596</td>\n",
       "      <td>596</td>\n",
       "      <td>596</td>\n",
       "      <td>596</td>\n",
       "      <td>596</td>\n",
       "      <td>596</td>\n",
       "    </tr>\n",
       "    <tr>\n",
       "      <th>War</th>\n",
       "      <td>58</td>\n",
       "      <td>58</td>\n",
       "      <td>58</td>\n",
       "      <td>58</td>\n",
       "      <td>58</td>\n",
       "      <td>58</td>\n",
       "      <td>58</td>\n",
       "      <td>58</td>\n",
       "      <td>58</td>\n",
       "      <td>58</td>\n",
       "      <td>58</td>\n",
       "      <td>58</td>\n",
       "      <td>58</td>\n",
       "    </tr>\n",
       "    <tr>\n",
       "      <th>Western</th>\n",
       "      <td>19</td>\n",
       "      <td>19</td>\n",
       "      <td>19</td>\n",
       "      <td>19</td>\n",
       "      <td>19</td>\n",
       "      <td>19</td>\n",
       "      <td>19</td>\n",
       "      <td>19</td>\n",
       "      <td>19</td>\n",
       "      <td>19</td>\n",
       "      <td>19</td>\n",
       "      <td>19</td>\n",
       "      <td>19</td>\n",
       "    </tr>\n",
       "  </tbody>\n",
       "</table>\n",
       "</div>"
      ],
      "text/plain": [
       "                 imdb_id  budget  revenue  original_title  cast  director  \\\n",
       "genres                                                                      \n",
       "Action               582     582      582             582   582       582   \n",
       "Adventure            415     415      415             415   415       415   \n",
       "Animation            139     139      139             139   139       139   \n",
       "Comedy               683     683      683             683   683       683   \n",
       "Crime                315     315      315             315   315       315   \n",
       "Documentary            8       8        8               8     8         8   \n",
       "Drama                782     782      782             782   782       782   \n",
       "Family               260     260      260             260   260       260   \n",
       "Fantasy              222     222      222             222   222       222   \n",
       "Foreign                2       2        2               2     2         2   \n",
       "History               62      62       62              62    62        62   \n",
       "Horror               176     176      176             176   176       176   \n",
       "Music                 64      64       64              64    64        64   \n",
       "Mystery              168     168      168             168   168       168   \n",
       "Romance              308     308      308             308   308       308   \n",
       "Science Fiction      248     248      248             248   248       248   \n",
       "Thriller             596     596      596             596   596       596   \n",
       "War                   58      58       58              58    58        58   \n",
       "Western               19      19       19              19    19        19   \n",
       "\n",
       "                 tagline  overview  runtime  production_companies  \\\n",
       "genres                                                              \n",
       "Action               582       582      582                   582   \n",
       "Adventure            415       415      415                   415   \n",
       "Animation            139       139      139                   139   \n",
       "Comedy               683       683      683                   683   \n",
       "Crime                315       315      315                   315   \n",
       "Documentary            8         8        8                     8   \n",
       "Drama                782       782      782                   782   \n",
       "Family               260       260      260                   260   \n",
       "Fantasy              222       222      222                   222   \n",
       "Foreign                2         2        2                     2   \n",
       "History               62        62       62                    62   \n",
       "Horror               176       176      176                   176   \n",
       "Music                 64        64       64                    64   \n",
       "Mystery              168       168      168                   168   \n",
       "Romance              308       308      308                   308   \n",
       "Science Fiction      248       248      248                   248   \n",
       "Thriller             596       596      596                   596   \n",
       "War                   58        58       58                    58   \n",
       "Western               19        19       19                    19   \n",
       "\n",
       "                 release_date  vote_average  release_year  \n",
       "genres                                                     \n",
       "Action                    582           582           582  \n",
       "Adventure                 415           415           415  \n",
       "Animation                 139           139           139  \n",
       "Comedy                    683           683           683  \n",
       "Crime                     315           315           315  \n",
       "Documentary                 8             8             8  \n",
       "Drama                     782           782           782  \n",
       "Family                    260           260           260  \n",
       "Fantasy                   222           222           222  \n",
       "Foreign                     2             2             2  \n",
       "History                    62            62            62  \n",
       "Horror                    176           176           176  \n",
       "Music                      64            64            64  \n",
       "Mystery                   168           168           168  \n",
       "Romance                   308           308           308  \n",
       "Science Fiction           248           248           248  \n",
       "Thriller                  596           596           596  \n",
       "War                        58            58            58  \n",
       "Western                    19            19            19  "
      ]
     },
     "execution_count": 235,
     "metadata": {},
     "output_type": "execute_result"
    }
   ],
   "source": [
    "data_11= data.copy()\n",
    "data_11['genres'] = data_11['genres'].str.split('|')\n",
    "data_11 = data_11.explode('genres')\n",
    "data_11.groupby('genres').count()"
   ]
  },
  {
   "cell_type": "markdown",
   "metadata": {
    "colab_type": "text",
    "id": "Ax6g2C8SVp_M"
   },
   "source": [
    "ВАРИАНТ 2"
   ]
  },
  {
   "cell_type": "code",
   "execution_count": 0,
   "metadata": {
    "colab": {},
    "colab_type": "code",
    "id": "otO3SbrSVp_N"
   },
   "outputs": [],
   "source": []
  },
  {
   "cell_type": "markdown",
   "metadata": {
    "colab_type": "text",
    "id": "T9_bPWpkVp_Q"
   },
   "source": [
    "# 12. Фильмы какого жанра чаще всего становятся прибыльными? "
   ]
  },
  {
   "cell_type": "code",
   "execution_count": 757,
   "metadata": {
    "colab": {},
    "colab_type": "code",
    "id": "Tmt8MaK1Vp_R"
   },
   "outputs": [],
   "source": [
    "answers['12'] = '1. Drama'"
   ]
  },
  {
   "cell_type": "code",
   "execution_count": 202,
   "metadata": {},
   "outputs": [
    {
     "data": {
      "text/plain": [
       "genres\n",
       "Drama              560\n",
       "Comedy             551\n",
       "Thriller           446\n",
       "Action             444\n",
       "Adventure          337\n",
       "Romance            242\n",
       "Crime              231\n",
       "Family             226\n",
       "Science Fiction    195\n",
       "Fantasy            188\n",
       "Horror             150\n",
       "Animation          120\n",
       "Mystery            119\n",
       "Music               47\n",
       "History             46\n",
       "War                 41\n",
       "Western             12\n",
       "Documentary          7\n",
       "Name: profit, dtype: int64"
      ]
     },
     "execution_count": 202,
     "metadata": {},
     "output_type": "execute_result"
    }
   ],
   "source": [
    "data_12= data.copy()\n",
    "data_12['profit'] = data['revenue'] - data['budget']\n",
    "data_12['genres'] = data_12['genres'].str.split('|')\n",
    "data_12 = data_12.explode('genres')\n",
    "data_12[data_12['profit'] > 0].groupby(by = 'genres')['profit'].count().sort_values(ascending=False)"
   ]
  },
  {
   "cell_type": "code",
   "execution_count": 203,
   "metadata": {},
   "outputs": [
    {
     "data": {
      "text/html": [
       "<div>\n",
       "<style scoped>\n",
       "    .dataframe tbody tr th:only-of-type {\n",
       "        vertical-align: middle;\n",
       "    }\n",
       "\n",
       "    .dataframe tbody tr th {\n",
       "        vertical-align: top;\n",
       "    }\n",
       "\n",
       "    .dataframe thead th {\n",
       "        text-align: right;\n",
       "    }\n",
       "</style>\n",
       "<table border=\"1\" class=\"dataframe\">\n",
       "  <thead>\n",
       "    <tr style=\"text-align: right;\">\n",
       "      <th></th>\n",
       "      <th>revenue</th>\n",
       "    </tr>\n",
       "    <tr>\n",
       "      <th>genres</th>\n",
       "      <th></th>\n",
       "    </tr>\n",
       "  </thead>\n",
       "  <tbody>\n",
       "    <tr>\n",
       "      <th>Drama</th>\n",
       "      <td>782</td>\n",
       "    </tr>\n",
       "    <tr>\n",
       "      <th>Comedy</th>\n",
       "      <td>683</td>\n",
       "    </tr>\n",
       "    <tr>\n",
       "      <th>Thriller</th>\n",
       "      <td>596</td>\n",
       "    </tr>\n",
       "    <tr>\n",
       "      <th>Action</th>\n",
       "      <td>582</td>\n",
       "    </tr>\n",
       "    <tr>\n",
       "      <th>Adventure</th>\n",
       "      <td>415</td>\n",
       "    </tr>\n",
       "    <tr>\n",
       "      <th>Crime</th>\n",
       "      <td>315</td>\n",
       "    </tr>\n",
       "    <tr>\n",
       "      <th>Romance</th>\n",
       "      <td>308</td>\n",
       "    </tr>\n",
       "    <tr>\n",
       "      <th>Family</th>\n",
       "      <td>260</td>\n",
       "    </tr>\n",
       "    <tr>\n",
       "      <th>Science Fiction</th>\n",
       "      <td>248</td>\n",
       "    </tr>\n",
       "    <tr>\n",
       "      <th>Fantasy</th>\n",
       "      <td>222</td>\n",
       "    </tr>\n",
       "    <tr>\n",
       "      <th>Horror</th>\n",
       "      <td>176</td>\n",
       "    </tr>\n",
       "    <tr>\n",
       "      <th>Mystery</th>\n",
       "      <td>168</td>\n",
       "    </tr>\n",
       "    <tr>\n",
       "      <th>Animation</th>\n",
       "      <td>139</td>\n",
       "    </tr>\n",
       "    <tr>\n",
       "      <th>Music</th>\n",
       "      <td>64</td>\n",
       "    </tr>\n",
       "    <tr>\n",
       "      <th>History</th>\n",
       "      <td>62</td>\n",
       "    </tr>\n",
       "    <tr>\n",
       "      <th>War</th>\n",
       "      <td>58</td>\n",
       "    </tr>\n",
       "    <tr>\n",
       "      <th>Western</th>\n",
       "      <td>19</td>\n",
       "    </tr>\n",
       "    <tr>\n",
       "      <th>Documentary</th>\n",
       "      <td>8</td>\n",
       "    </tr>\n",
       "    <tr>\n",
       "      <th>Foreign</th>\n",
       "      <td>2</td>\n",
       "    </tr>\n",
       "  </tbody>\n",
       "</table>\n",
       "</div>"
      ],
      "text/plain": [
       "                 revenue\n",
       "genres                  \n",
       "Drama                782\n",
       "Comedy               683\n",
       "Thriller             596\n",
       "Action               582\n",
       "Adventure            415\n",
       "Crime                315\n",
       "Romance              308\n",
       "Family               260\n",
       "Science Fiction      248\n",
       "Fantasy              222\n",
       "Horror               176\n",
       "Mystery              168\n",
       "Animation            139\n",
       "Music                 64\n",
       "History               62\n",
       "War                   58\n",
       "Western               19\n",
       "Documentary            8\n",
       "Foreign                2"
      ]
     },
     "execution_count": 203,
     "metadata": {},
     "output_type": "execute_result"
    }
   ],
   "source": [
    "data['profit'] = data['revenue'] - data['budget']\n",
    "data.genres = data.genres.apply(lambda x: x.split('|'))\n",
    "genres_profit = data[['genres','revenue']].explode('genres')\n",
    "genres_profit.groupby('genres')[['revenue']].count().sort_values(by = 'revenue', ascending=False)"
   ]
  },
  {
   "cell_type": "markdown",
   "metadata": {
    "colab_type": "text",
    "id": "0F23bgsDVp_U"
   },
   "source": [
    "# 13. У какого режиссера самые большие суммарные кассовые сборы?"
   ]
  },
  {
   "cell_type": "code",
   "execution_count": 758,
   "metadata": {
    "colab": {},
    "colab_type": "code",
    "id": "K6Z3J8ygVp_X"
   },
   "outputs": [],
   "source": [
    "answers['13'] = '5. Peter Jackson'"
   ]
  },
  {
   "cell_type": "code",
   "execution_count": 67,
   "metadata": {},
   "outputs": [
    {
     "data": {
      "text/plain": [
       "director\n",
       "Peter Jackson        6490593685\n",
       "Christopher Nolan    4167548502\n",
       "David Yates          4154295625\n",
       "Michael Bay          3886938960\n",
       "J.J. Abrams          3579169916\n",
       "                        ...    \n",
       "David MichÃ´d           2295423\n",
       "Steven Shainberg        2281089\n",
       "Paul Schrader           2062066\n",
       "Keanu Reeves            2054941\n",
       "Simon Hunter            2033165\n",
       "Name: revenue, Length: 997, dtype: int64"
      ]
     },
     "execution_count": 67,
     "metadata": {},
     "output_type": "execute_result"
    }
   ],
   "source": [
    "data['profit'] = data['revenue']-data['budget']\n",
    "data.director = data.director.apply(lambda x: x.split('|'))\n",
    "director_profit = data[['director','revenue']].explode('director')\n",
    "director_profit.groupby('director').revenue.sum().sort_values(ascending=False)"
   ]
  },
  {
   "cell_type": "markdown",
   "metadata": {
    "colab_type": "text",
    "id": "PsYC9FgRVp_a"
   },
   "source": [
    "# 14. Какой режисер снял больше всего фильмов в стиле Action?"
   ]
  },
  {
   "cell_type": "code",
   "execution_count": 759,
   "metadata": {
    "colab": {},
    "colab_type": "code",
    "id": "wd2M-wHeVp_b"
   },
   "outputs": [],
   "source": [
    "answers['14'] = '3. Robert Rodriguez'"
   ]
  },
  {
   "cell_type": "code",
   "execution_count": 88,
   "metadata": {},
   "outputs": [
    {
     "data": {
      "text/plain": [
       "director\n",
       "Robert Rodriguez      9\n",
       "Paul W.S. Anderson    7\n",
       "Michael Bay           7\n",
       "Ridley Scott          6\n",
       "Antoine Fuqua         6\n",
       "                     ..\n",
       "Joe Cornish           1\n",
       "Roger Spottiswoode    1\n",
       "Jimmy Hayward         1\n",
       "Jim Gillespie         1\n",
       "Jon Avnet             1\n",
       "Name: director, Length: 364, dtype: int64"
      ]
     },
     "execution_count": 88,
     "metadata": {},
     "output_type": "execute_result"
    }
   ],
   "source": [
    "data_14 = data[data.genres.str.contains(\"Action\", na=False)].copy()\n",
    "data_14.director = data_14.director.str.split('|')\n",
    "data_14 = data_14.explode('director')\n",
    "data_14.groupby(['director']).director.count().sort_values(ascending=False)"
   ]
  },
  {
   "cell_type": "markdown",
   "metadata": {
    "colab_type": "text",
    "id": "PQ0KciD7Vp_f"
   },
   "source": [
    "# 15. Фильмы с каким актером принесли самые высокие кассовые сборы в 2012 году? "
   ]
  },
  {
   "cell_type": "code",
   "execution_count": 760,
   "metadata": {
    "colab": {},
    "colab_type": "code",
    "id": "aga62oeKVp_g"
   },
   "outputs": [],
   "source": [
    "answers['15'] = '3. Chris Hemsworth'"
   ]
  },
  {
   "cell_type": "code",
   "execution_count": null,
   "metadata": {},
   "outputs": [],
   "source": [
    "data_15.loc[:,'cast'] = data_15.cast.map(lambda x: x.split('|'))"
   ]
  },
  {
   "cell_type": "code",
   "execution_count": 218,
   "metadata": {},
   "outputs": [
    {
     "name": "stderr",
     "output_type": "stream",
     "text": [
      "C:\\Users\\HP\\anaconda3\\lib\\site-packages\\pandas\\core\\indexing.py:1745: SettingWithCopyWarning: \n",
      "A value is trying to be set on a copy of a slice from a DataFrame.\n",
      "Try using .loc[row_indexer,col_indexer] = value instead\n",
      "\n",
      "See the caveats in the documentation: https://pandas.pydata.org/pandas-docs/stable/user_guide/indexing.html#returning-a-view-versus-a-copy\n",
      "  isetter(ilocs[0], value)\n"
     ]
    },
    {
     "data": {
      "text/plain": [
       "cast\n",
       "Chris Hemsworth       2027450773\n",
       "Denis Leary           1629460639\n",
       "Anne Hathaway         1522851057\n",
       "Chris Evans           1519557910\n",
       "Robert Downey Jr.     1519557910\n",
       "Mark Ruffalo          1519557910\n",
       "Scarlett Johansson    1519557910\n",
       "Ralph Fiennes         1409561013\n",
       "Sacha Baron Cohen     1368110577\n",
       "Kristen Stewart       1234384318\n",
       "Name: revenue, dtype: int64"
      ]
     },
     "execution_count": 218,
     "metadata": {},
     "output_type": "execute_result"
    }
   ],
   "source": [
    "data_15=data[data['release_year'] == 2012]\n",
    "data_15.loc[:, 'cast']=data_15.cast.map(lambda x: x.split('|'))\n",
    "#data_15=data_15.explode('cast')\n",
    "data_15.explode('cast').groupby(by='cast')['revenue'].sum().sort_values(ascending=False).head(10)"
   ]
  },
  {
   "cell_type": "markdown",
   "metadata": {
    "colab_type": "text",
    "id": "mWHyyL7QVp_j"
   },
   "source": [
    "# 16. Какой актер снялся в большем количестве высокобюджетных фильмов?"
   ]
  },
  {
   "cell_type": "code",
   "execution_count": 761,
   "metadata": {
    "colab": {},
    "colab_type": "code",
    "id": "qQtmHKTFVp_k"
   },
   "outputs": [],
   "source": [
    "answers['16'] = '3. Matt Damon'"
   ]
  },
  {
   "cell_type": "code",
   "execution_count": 143,
   "metadata": {},
   "outputs": [
    {
     "data": {
      "text/html": [
       "<div>\n",
       "<style scoped>\n",
       "    .dataframe tbody tr th:only-of-type {\n",
       "        vertical-align: middle;\n",
       "    }\n",
       "\n",
       "    .dataframe tbody tr th {\n",
       "        vertical-align: top;\n",
       "    }\n",
       "\n",
       "    .dataframe thead th {\n",
       "        text-align: right;\n",
       "    }\n",
       "</style>\n",
       "<table border=\"1\" class=\"dataframe\">\n",
       "  <thead>\n",
       "    <tr style=\"text-align: right;\">\n",
       "      <th></th>\n",
       "      <th>original_title</th>\n",
       "    </tr>\n",
       "    <tr>\n",
       "      <th>cast</th>\n",
       "      <th></th>\n",
       "    </tr>\n",
       "  </thead>\n",
       "  <tbody>\n",
       "    <tr>\n",
       "      <th>Matt Damon</th>\n",
       "      <td>18</td>\n",
       "    </tr>\n",
       "    <tr>\n",
       "      <th>Adam Sandler</th>\n",
       "      <td>17</td>\n",
       "    </tr>\n",
       "    <tr>\n",
       "      <th>Angelina Jolie</th>\n",
       "      <td>16</td>\n",
       "    </tr>\n",
       "    <tr>\n",
       "      <th>Tom Cruise</th>\n",
       "      <td>15</td>\n",
       "    </tr>\n",
       "    <tr>\n",
       "      <th>Eddie Murphy</th>\n",
       "      <td>15</td>\n",
       "    </tr>\n",
       "    <tr>\n",
       "      <th>...</th>\n",
       "      <td>...</td>\n",
       "    </tr>\n",
       "    <tr>\n",
       "      <th>Jennifer Hudson</th>\n",
       "      <td>1</td>\n",
       "    </tr>\n",
       "    <tr>\n",
       "      <th>Jennifer Jason Leigh</th>\n",
       "      <td>1</td>\n",
       "    </tr>\n",
       "    <tr>\n",
       "      <th>Jennifer Saunders</th>\n",
       "      <td>1</td>\n",
       "    </tr>\n",
       "    <tr>\n",
       "      <th>Jennifer Tilly</th>\n",
       "      <td>1</td>\n",
       "    </tr>\n",
       "    <tr>\n",
       "      <th>Ã“lafur Darri Ã“lafsson</th>\n",
       "      <td>1</td>\n",
       "    </tr>\n",
       "  </tbody>\n",
       "</table>\n",
       "<p>1505 rows × 1 columns</p>\n",
       "</div>"
      ],
      "text/plain": [
       "                         original_title\n",
       "cast                                   \n",
       "Matt Damon                           18\n",
       "Adam Sandler                         17\n",
       "Angelina Jolie                       16\n",
       "Tom Cruise                           15\n",
       "Eddie Murphy                         15\n",
       "...                                 ...\n",
       "Jennifer Hudson                       1\n",
       "Jennifer Jason Leigh                  1\n",
       "Jennifer Saunders                     1\n",
       "Jennifer Tilly                        1\n",
       "Ã“lafur Darri Ã“lafsson               1\n",
       "\n",
       "[1505 rows x 1 columns]"
      ]
     },
     "execution_count": 143,
     "metadata": {},
     "output_type": "execute_result"
    }
   ],
   "source": [
    "data_16 = data.copy()\n",
    "data_16['cast']=data_16.cast.map(lambda x: x.split('|'))\n",
    "data_16=data_16.explode('cast')\n",
    "data_16[data_16['budget']>data_16['budget'].mean()].groupby('cast')[['original_title']].count().sort_values(by='original_title', ascending=False)"
   ]
  },
  {
   "cell_type": "markdown",
   "metadata": {
    "colab_type": "text",
    "id": "NIh6AaW5Vp_n"
   },
   "source": [
    "# 17. В фильмах какого жанра больше всего снимался Nicolas Cage? "
   ]
  },
  {
   "cell_type": "code",
   "execution_count": 762,
   "metadata": {
    "colab": {},
    "colab_type": "code",
    "id": "H74SJDIBVp_n"
   },
   "outputs": [],
   "source": [
    "answers['17'] = '2. Action'"
   ]
  },
  {
   "cell_type": "code",
   "execution_count": 144,
   "metadata": {},
   "outputs": [
    {
     "data": {
      "text/plain": [
       "Action             17\n",
       "Thriller           15\n",
       "Drama              12\n",
       "Crime              10\n",
       "Fantasy             8\n",
       "Adventure           7\n",
       "Comedy              6\n",
       "Science Fiction     4\n",
       "Mystery             3\n",
       "Family              3\n",
       "Animation           3\n",
       "History             2\n",
       "War                 1\n",
       "Horror              1\n",
       "Romance             1\n",
       "dtype: int64"
      ]
     },
     "execution_count": 144,
     "metadata": {},
     "output_type": "execute_result"
    }
   ],
   "source": [
    "data_17 = data[data.cast.str.contains(\"Nicolas Cage\")]#Выделим фильмы с участием Кейджа\n",
    "# Подсчитаем количество\n",
    "cage_genres=data_17['genres'].str.cat(sep='|') # превращаем все в одну строку\n",
    "cage_genres=pd.Series(cage_genres.split('|')) # создаем список разделяя строку по '|' \n",
    "cage_genres=cage_genres.value_counts(ascending=False) # считаем количество элементов строке\n",
    "cage_genres"
   ]
  },
  {
   "cell_type": "markdown",
   "metadata": {
    "colab_type": "text",
    "id": "RqOmPRfWVp_q"
   },
   "source": [
    "# 18. Самый убыточный фильм от Paramount Pictures"
   ]
  },
  {
   "cell_type": "code",
   "execution_count": 763,
   "metadata": {
    "colab": {},
    "colab_type": "code",
    "id": "9E_B0Y96Vp_r"
   },
   "outputs": [],
   "source": [
    "answers['18'] = '1. K-19: The Widowmaker (tt0267626)'"
   ]
  },
  {
   "cell_type": "code",
   "execution_count": 691,
   "metadata": {},
   "outputs": [
    {
     "data": {
      "text/html": [
       "<div>\n",
       "<style scoped>\n",
       "    .dataframe tbody tr th:only-of-type {\n",
       "        vertical-align: middle;\n",
       "    }\n",
       "\n",
       "    .dataframe tbody tr th {\n",
       "        vertical-align: top;\n",
       "    }\n",
       "\n",
       "    .dataframe thead th {\n",
       "        text-align: right;\n",
       "    }\n",
       "</style>\n",
       "<table border=\"1\" class=\"dataframe\">\n",
       "  <thead>\n",
       "    <tr style=\"text-align: right;\">\n",
       "      <th></th>\n",
       "      <th>imdb_id</th>\n",
       "      <th>budget</th>\n",
       "      <th>revenue</th>\n",
       "      <th>original_title</th>\n",
       "      <th>cast</th>\n",
       "      <th>director</th>\n",
       "      <th>tagline</th>\n",
       "      <th>overview</th>\n",
       "      <th>runtime</th>\n",
       "      <th>genres</th>\n",
       "      <th>production_companies</th>\n",
       "      <th>release_date</th>\n",
       "      <th>vote_average</th>\n",
       "      <th>release_year</th>\n",
       "      <th>month</th>\n",
       "      <th>profit</th>\n",
       "    </tr>\n",
       "  </thead>\n",
       "  <tbody>\n",
       "    <tr>\n",
       "      <th>828</th>\n",
       "      <td>tt1399103</td>\n",
       "      <td>195000000</td>\n",
       "      <td>1123746996</td>\n",
       "      <td>Transformers: Dark of the Moon</td>\n",
       "      <td>Shia LaBeouf|John Malkovich|Ken Jeong|Frances ...</td>\n",
       "      <td>Michael Bay</td>\n",
       "      <td>The invasion we always feared. An enemy we nev...</td>\n",
       "      <td>Sam Witwicky takes his first tenuous steps int...</td>\n",
       "      <td>154</td>\n",
       "      <td>Action|Science Fiction|Adventure</td>\n",
       "      <td>Paramount Pictures</td>\n",
       "      <td>2011-06-28</td>\n",
       "      <td>6.1</td>\n",
       "      <td>2011</td>\n",
       "      <td>6</td>\n",
       "      <td>928746996</td>\n",
       "    </tr>\n",
       "    <tr>\n",
       "      <th>317</th>\n",
       "      <td>tt1055369</td>\n",
       "      <td>150000000</td>\n",
       "      <td>836297228</td>\n",
       "      <td>Transformers: Revenge of the Fallen</td>\n",
       "      <td>Shia LaBeouf|Megan Fox|Josh Duhamel|Rainn Wils...</td>\n",
       "      <td>Michael Bay</td>\n",
       "      <td>Revenge is coming</td>\n",
       "      <td>Sam Witwicky leaves the Autobots behind for a ...</td>\n",
       "      <td>150</td>\n",
       "      <td>Science Fiction|Action|Adventure</td>\n",
       "      <td>Paramount Pictures</td>\n",
       "      <td>2009-06-19</td>\n",
       "      <td>6.0</td>\n",
       "      <td>2009</td>\n",
       "      <td>6</td>\n",
       "      <td>686297228</td>\n",
       "    </tr>\n",
       "    <tr>\n",
       "      <th>603</th>\n",
       "      <td>tt0367882</td>\n",
       "      <td>185000000</td>\n",
       "      <td>786636033</td>\n",
       "      <td>Indiana Jones and the Kingdom of the Crystal S...</td>\n",
       "      <td>Harrison Ford|Cate Blanchett|Shia LaBeouf|Ray ...</td>\n",
       "      <td>Steven Spielberg</td>\n",
       "      <td>The adventure continues . . .</td>\n",
       "      <td>Set during the Cold War, the Soviets â€“ led b...</td>\n",
       "      <td>122</td>\n",
       "      <td>Adventure|Action</td>\n",
       "      <td>Paramount Pictures</td>\n",
       "      <td>2008-05-21</td>\n",
       "      <td>5.6</td>\n",
       "      <td>2008</td>\n",
       "      <td>5</td>\n",
       "      <td>601636033</td>\n",
       "    </tr>\n",
       "    <tr>\n",
       "      <th>1738</th>\n",
       "      <td>tt0418279</td>\n",
       "      <td>150000000</td>\n",
       "      <td>709709780</td>\n",
       "      <td>Transformers</td>\n",
       "      <td>Shia LaBeouf|Josh Duhamel|Megan Fox|Rachael Ta...</td>\n",
       "      <td>Michael Bay</td>\n",
       "      <td>Their war. Our world.</td>\n",
       "      <td>Young teenager, Sam Witwicky becomes involved ...</td>\n",
       "      <td>144</td>\n",
       "      <td>Adventure|Science Fiction|Action</td>\n",
       "      <td>Paramount Pictures</td>\n",
       "      <td>2007-06-27</td>\n",
       "      <td>6.6</td>\n",
       "      <td>2007</td>\n",
       "      <td>6</td>\n",
       "      <td>559709780</td>\n",
       "    </tr>\n",
       "    <tr>\n",
       "      <th>730</th>\n",
       "      <td>tt1229238</td>\n",
       "      <td>145000000</td>\n",
       "      <td>694713380</td>\n",
       "      <td>Mission: Impossible - Ghost Protocol</td>\n",
       "      <td>Tom Cruise|Jeremy Renner|Simon Pegg|Paula Patt...</td>\n",
       "      <td>Brad Bird</td>\n",
       "      <td>No Plan. No Backup. No Choice.</td>\n",
       "      <td>In the 4th installment of the Mission Impossib...</td>\n",
       "      <td>133</td>\n",
       "      <td>Action|Thriller|Adventure</td>\n",
       "      <td>Paramount Pictures</td>\n",
       "      <td>2011-12-07</td>\n",
       "      <td>6.7</td>\n",
       "      <td>2011</td>\n",
       "      <td>12</td>\n",
       "      <td>549713380</td>\n",
       "    </tr>\n",
       "    <tr>\n",
       "      <th>...</th>\n",
       "      <td>...</td>\n",
       "      <td>...</td>\n",
       "      <td>...</td>\n",
       "      <td>...</td>\n",
       "      <td>...</td>\n",
       "      <td>...</td>\n",
       "      <td>...</td>\n",
       "      <td>...</td>\n",
       "      <td>...</td>\n",
       "      <td>...</td>\n",
       "      <td>...</td>\n",
       "      <td>...</td>\n",
       "      <td>...</td>\n",
       "      <td>...</td>\n",
       "      <td>...</td>\n",
       "      <td>...</td>\n",
       "    </tr>\n",
       "    <tr>\n",
       "      <th>1631</th>\n",
       "      <td>tt0315297</td>\n",
       "      <td>50000000</td>\n",
       "      <td>25195000</td>\n",
       "      <td>Twisted</td>\n",
       "      <td>Ashley Judd|Samuel L. Jackson|Andy GarcÃ­a|Dav...</td>\n",
       "      <td>Philip Kaufman</td>\n",
       "      <td>Every murder has a mark.</td>\n",
       "      <td>Recently promoted and transferred to the homic...</td>\n",
       "      <td>97</td>\n",
       "      <td>Action|Adventure|Crime|Drama|Thriller</td>\n",
       "      <td>Paramount Pictures</td>\n",
       "      <td>2004-02-27</td>\n",
       "      <td>5.7</td>\n",
       "      <td>2004</td>\n",
       "      <td>2</td>\n",
       "      <td>-24805000</td>\n",
       "    </tr>\n",
       "    <tr>\n",
       "      <th>1623</th>\n",
       "      <td>tt0375173</td>\n",
       "      <td>60000000</td>\n",
       "      <td>13395939</td>\n",
       "      <td>Alfie</td>\n",
       "      <td>Jude Law|Marisa Tomei|Omar Epps|Jane Krakowski...</td>\n",
       "      <td>Charles Shyer</td>\n",
       "      <td>Meet a man who never met a woman he didn't love.</td>\n",
       "      <td>In Manhattan, the British limousine driver Alf...</td>\n",
       "      <td>103</td>\n",
       "      <td>Comedy</td>\n",
       "      <td>Paramount Pictures</td>\n",
       "      <td>2004-10-22</td>\n",
       "      <td>5.4</td>\n",
       "      <td>2004</td>\n",
       "      <td>10</td>\n",
       "      <td>-46604061</td>\n",
       "    </tr>\n",
       "    <tr>\n",
       "      <th>1722</th>\n",
       "      <td>tt0435705</td>\n",
       "      <td>70000000</td>\n",
       "      <td>18211013</td>\n",
       "      <td>Next</td>\n",
       "      <td>Nicolas Cage|Julianne Moore|Jessica Biel|Thoma...</td>\n",
       "      <td>Lee Tamahori</td>\n",
       "      <td>If you can see the future, you can save it.</td>\n",
       "      <td>Las Vegas showroom magician Cris Johnson has a...</td>\n",
       "      <td>96</td>\n",
       "      <td>Action|Science Fiction|Thriller</td>\n",
       "      <td>Paramount Pictures</td>\n",
       "      <td>2007-04-24</td>\n",
       "      <td>5.9</td>\n",
       "      <td>2007</td>\n",
       "      <td>4</td>\n",
       "      <td>-51788987</td>\n",
       "    </tr>\n",
       "    <tr>\n",
       "      <th>1123</th>\n",
       "      <td>tt0300556</td>\n",
       "      <td>80000000</td>\n",
       "      <td>19480739</td>\n",
       "      <td>Timeline</td>\n",
       "      <td>Paul Walker|Frances O'Connor|Gerard Butler|Bil...</td>\n",
       "      <td>Richard Donner</td>\n",
       "      <td>They had to travel into the past to save the f...</td>\n",
       "      <td>A group of archaeological students become trap...</td>\n",
       "      <td>116</td>\n",
       "      <td>Action|Adventure|Science Fiction</td>\n",
       "      <td>Paramount Pictures</td>\n",
       "      <td>2003-11-26</td>\n",
       "      <td>5.1</td>\n",
       "      <td>2003</td>\n",
       "      <td>11</td>\n",
       "      <td>-60519261</td>\n",
       "    </tr>\n",
       "    <tr>\n",
       "      <th>925</th>\n",
       "      <td>tt0267626</td>\n",
       "      <td>100000000</td>\n",
       "      <td>35168966</td>\n",
       "      <td>K-19: The Widowmaker</td>\n",
       "      <td>Harrison Ford|Liam Neeson|Peter Sarsgaard|Joss...</td>\n",
       "      <td>Kathryn Bigelow</td>\n",
       "      <td>Fate has found its hero.</td>\n",
       "      <td>When Russia's first nuclear submarine malfunct...</td>\n",
       "      <td>138</td>\n",
       "      <td>Thriller|Drama|History</td>\n",
       "      <td>Paramount Pictures</td>\n",
       "      <td>2002-07-19</td>\n",
       "      <td>6.0</td>\n",
       "      <td>2002</td>\n",
       "      <td>7</td>\n",
       "      <td>-64831034</td>\n",
       "    </tr>\n",
       "  </tbody>\n",
       "</table>\n",
       "<p>126 rows × 16 columns</p>\n",
       "</div>"
      ],
      "text/plain": [
       "        imdb_id     budget     revenue  \\\n",
       "828   tt1399103  195000000  1123746996   \n",
       "317   tt1055369  150000000   836297228   \n",
       "603   tt0367882  185000000   786636033   \n",
       "1738  tt0418279  150000000   709709780   \n",
       "730   tt1229238  145000000   694713380   \n",
       "...         ...        ...         ...   \n",
       "1631  tt0315297   50000000    25195000   \n",
       "1623  tt0375173   60000000    13395939   \n",
       "1722  tt0435705   70000000    18211013   \n",
       "1123  tt0300556   80000000    19480739   \n",
       "925   tt0267626  100000000    35168966   \n",
       "\n",
       "                                         original_title  \\\n",
       "828                      Transformers: Dark of the Moon   \n",
       "317                 Transformers: Revenge of the Fallen   \n",
       "603   Indiana Jones and the Kingdom of the Crystal S...   \n",
       "1738                                       Transformers   \n",
       "730                Mission: Impossible - Ghost Protocol   \n",
       "...                                                 ...   \n",
       "1631                                            Twisted   \n",
       "1623                                              Alfie   \n",
       "1722                                               Next   \n",
       "1123                                           Timeline   \n",
       "925                                K-19: The Widowmaker   \n",
       "\n",
       "                                                   cast          director  \\\n",
       "828   Shia LaBeouf|John Malkovich|Ken Jeong|Frances ...       Michael Bay   \n",
       "317   Shia LaBeouf|Megan Fox|Josh Duhamel|Rainn Wils...       Michael Bay   \n",
       "603   Harrison Ford|Cate Blanchett|Shia LaBeouf|Ray ...  Steven Spielberg   \n",
       "1738  Shia LaBeouf|Josh Duhamel|Megan Fox|Rachael Ta...       Michael Bay   \n",
       "730   Tom Cruise|Jeremy Renner|Simon Pegg|Paula Patt...         Brad Bird   \n",
       "...                                                 ...               ...   \n",
       "1631  Ashley Judd|Samuel L. Jackson|Andy GarcÃ­a|Dav...    Philip Kaufman   \n",
       "1623  Jude Law|Marisa Tomei|Omar Epps|Jane Krakowski...     Charles Shyer   \n",
       "1722  Nicolas Cage|Julianne Moore|Jessica Biel|Thoma...      Lee Tamahori   \n",
       "1123  Paul Walker|Frances O'Connor|Gerard Butler|Bil...    Richard Donner   \n",
       "925   Harrison Ford|Liam Neeson|Peter Sarsgaard|Joss...   Kathryn Bigelow   \n",
       "\n",
       "                                                tagline  \\\n",
       "828   The invasion we always feared. An enemy we nev...   \n",
       "317                                   Revenge is coming   \n",
       "603                       The adventure continues . . .   \n",
       "1738                              Their war. Our world.   \n",
       "730                      No Plan. No Backup. No Choice.   \n",
       "...                                                 ...   \n",
       "1631                           Every murder has a mark.   \n",
       "1623   Meet a man who never met a woman he didn't love.   \n",
       "1722        If you can see the future, you can save it.   \n",
       "1123  They had to travel into the past to save the f...   \n",
       "925                            Fate has found its hero.   \n",
       "\n",
       "                                               overview  runtime  \\\n",
       "828   Sam Witwicky takes his first tenuous steps int...      154   \n",
       "317   Sam Witwicky leaves the Autobots behind for a ...      150   \n",
       "603   Set during the Cold War, the Soviets â€“ led b...      122   \n",
       "1738  Young teenager, Sam Witwicky becomes involved ...      144   \n",
       "730   In the 4th installment of the Mission Impossib...      133   \n",
       "...                                                 ...      ...   \n",
       "1631  Recently promoted and transferred to the homic...       97   \n",
       "1623  In Manhattan, the British limousine driver Alf...      103   \n",
       "1722  Las Vegas showroom magician Cris Johnson has a...       96   \n",
       "1123  A group of archaeological students become trap...      116   \n",
       "925   When Russia's first nuclear submarine malfunct...      138   \n",
       "\n",
       "                                     genres production_companies release_date  \\\n",
       "828        Action|Science Fiction|Adventure   Paramount Pictures   2011-06-28   \n",
       "317        Science Fiction|Action|Adventure   Paramount Pictures   2009-06-19   \n",
       "603                        Adventure|Action   Paramount Pictures   2008-05-21   \n",
       "1738       Adventure|Science Fiction|Action   Paramount Pictures   2007-06-27   \n",
       "730               Action|Thriller|Adventure   Paramount Pictures   2011-12-07   \n",
       "...                                     ...                  ...          ...   \n",
       "1631  Action|Adventure|Crime|Drama|Thriller   Paramount Pictures   2004-02-27   \n",
       "1623                                 Comedy   Paramount Pictures   2004-10-22   \n",
       "1722        Action|Science Fiction|Thriller   Paramount Pictures   2007-04-24   \n",
       "1123       Action|Adventure|Science Fiction   Paramount Pictures   2003-11-26   \n",
       "925                  Thriller|Drama|History   Paramount Pictures   2002-07-19   \n",
       "\n",
       "      vote_average  release_year  month     profit  \n",
       "828            6.1          2011      6  928746996  \n",
       "317            6.0          2009      6  686297228  \n",
       "603            5.6          2008      5  601636033  \n",
       "1738           6.6          2007      6  559709780  \n",
       "730            6.7          2011     12  549713380  \n",
       "...            ...           ...    ...        ...  \n",
       "1631           5.7          2004      2  -24805000  \n",
       "1623           5.4          2004     10  -46604061  \n",
       "1722           5.9          2007      4  -51788987  \n",
       "1123           5.1          2003     11  -60519261  \n",
       "925            6.0          2002      7  -64831034  \n",
       "\n",
       "[126 rows x 16 columns]"
      ]
     },
     "execution_count": 691,
     "metadata": {},
     "output_type": "execute_result"
    }
   ],
   "source": [
    "data_18 = data.copy()\n",
    "data_18['profit'] = data['revenue']-data['budget']\n",
    "data_18['production_companies'] = data_18['production_companies'].str.split('|')\n",
    "data_18 = data_18.explode('production_companies')\n",
    "data_18[data_18['production_companies'] == 'Paramount Pictures'].sort_values(by='profit', ascending=False)"
   ]
  },
  {
   "cell_type": "markdown",
   "metadata": {
    "colab_type": "text",
    "id": "vS8Ur6ddVp_u"
   },
   "source": [
    "# 19. Какой год стал самым успешным по суммарным кассовым сборам?"
   ]
  },
  {
   "cell_type": "code",
   "execution_count": 764,
   "metadata": {
    "colab": {},
    "colab_type": "code",
    "id": "Dnbt4GdIVp_v"
   },
   "outputs": [],
   "source": [
    "answers['19'] = '5. 2015'"
   ]
  },
  {
   "cell_type": "code",
   "execution_count": 265,
   "metadata": {},
   "outputs": [
    {
     "data": {
      "text/plain": [
       "release_year\n",
       "2015    18668572378\n",
       "2014    16397812953\n",
       "2012    16077001687\n",
       "2013    15243179791\n",
       "2011    14730241341\n",
       "2010    13531204961\n",
       "2009    13423744372\n",
       "2008    11663881990\n",
       "2007    11565911801\n",
       "2004     9634180720\n",
       "2003     9228823312\n",
       "2002     9002361487\n",
       "2005     8981925558\n",
       "2006     8691077320\n",
       "2001     7950614865\n",
       "2000     6101399805\n",
       "Name: profit, dtype: int64"
      ]
     },
     "execution_count": 265,
     "metadata": {},
     "output_type": "execute_result"
    }
   ],
   "source": [
    "data_19 = data.copy()\n",
    "data_19['profit'] = data['revenue'] - data['budget'] #прибыль\n",
    "data_19.groupby('release_year').profit.sum().sort_values(ascending=False) "
   ]
  },
  {
   "cell_type": "markdown",
   "metadata": {
    "colab_type": "text",
    "id": "JAzJh4QAVp_z"
   },
   "source": [
    "# 20. Какой самый прибыльный год для студии Warner Bros?"
   ]
  },
  {
   "cell_type": "code",
   "execution_count": 765,
   "metadata": {
    "colab": {},
    "colab_type": "code",
    "id": "wgVu02DEVp_0"
   },
   "outputs": [],
   "source": [
    "answers['20'] = '3. 2012'"
   ]
  },
  {
   "cell_type": "code",
   "execution_count": 575,
   "metadata": {},
   "outputs": [
    {
     "data": {
      "text/plain": [
       "release_year\n",
       "2000     421388105\n",
       "2001     851475550\n",
       "2002     847287400\n",
       "2003    1024888979\n",
       "2004     769838758\n",
       "2005     745921036\n",
       "2006     865659812\n",
       "2007     788212738\n",
       "2008     816921825\n",
       "2009    2544505847\n",
       "2010     863171911\n",
       "2011    1202817822\n",
       "2012    1299557910\n",
       "2013    1124219009\n",
       "2014     705119788\n",
       "2015    1868178225\n",
       "Name: profit, dtype: int64"
      ]
     },
     "execution_count": 575,
     "metadata": {},
     "output_type": "execute_result"
    }
   ],
   "source": [
    "data_20 = data.copy()\n",
    "data_20['profit'] = data['revenue']-data['budget']\n",
    "data_20['production_companies'] = data_20['production_companies'].str.split('|')\n",
    "data_20 = data_20.explode('production_companies')\n",
    "data_20[data_20['production_companies'] == 'Warner Bros'].sort_values(by='profit', ascending=False)\n",
    "#data_20[data_20['production_companies'] == 'Warner Bros'].sort_values()\n",
    "#data_20.groupby(['imdb_id', 'release_year']).profit.max().sort_values(ascending=False) \n",
    "data_20.groupby(by = 'release_year')['profit'].max()"
   ]
  },
  {
   "cell_type": "code",
   "execution_count": 612,
   "metadata": {},
   "outputs": [
    {
     "data": {
      "text/plain": [
       "722    2011\n",
       "Name: release_year, dtype: int64"
      ]
     },
     "execution_count": 612,
     "metadata": {},
     "output_type": "execute_result"
    }
   ],
   "source": [
    "data_20 = data.copy()\n",
    "data_20['profit'] = data.revenue - data.budget #прибыль\n",
    "data_20 = data_20[data_20['production_companies'].str.contains('Warner Bros')]\n",
    "data_20[data_20.profit == data_20.profit.max()].release_year"
   ]
  },
  {
   "cell_type": "code",
   "execution_count": 617,
   "metadata": {},
   "outputs": [
    {
     "ename": "IndexError",
     "evalue": "only integers, slices (`:`), ellipsis (`...`), numpy.newaxis (`None`) and integer or boolean arrays are valid indices",
     "output_type": "error",
     "traceback": [
      "\u001b[1;31m---------------------------------------------------------------------------\u001b[0m",
      "\u001b[1;31mIndexError\u001b[0m                                Traceback (most recent call last)",
      "\u001b[1;32m<ipython-input-617-0063c07d0407>\u001b[0m in \u001b[0;36m<module>\u001b[1;34m\u001b[0m\n\u001b[0;32m      2\u001b[0m \u001b[0mdata_20\u001b[0m\u001b[1;33m[\u001b[0m\u001b[1;34m'profit'\u001b[0m\u001b[1;33m]\u001b[0m \u001b[1;33m=\u001b[0m \u001b[0mdata\u001b[0m\u001b[1;33m[\u001b[0m\u001b[1;34m'revenue'\u001b[0m\u001b[1;33m]\u001b[0m \u001b[1;33m-\u001b[0m \u001b[0mdata\u001b[0m\u001b[1;33m[\u001b[0m\u001b[1;34m'budget'\u001b[0m\u001b[1;33m]\u001b[0m \u001b[1;31m#прибыль\u001b[0m\u001b[1;33m\u001b[0m\u001b[1;33m\u001b[0m\u001b[0m\n\u001b[0;32m      3\u001b[0m \u001b[0mdata_20\u001b[0m \u001b[1;33m=\u001b[0m \u001b[0mdata\u001b[0m\u001b[1;33m[\u001b[0m\u001b[1;34m'production_companies'\u001b[0m\u001b[1;33m]\u001b[0m\u001b[1;33m.\u001b[0m\u001b[0mstr\u001b[0m\u001b[1;33m.\u001b[0m\u001b[0msplit\u001b[0m\u001b[1;33m(\u001b[0m\u001b[1;34m'|'\u001b[0m\u001b[1;33m)\u001b[0m\u001b[1;33m.\u001b[0m\u001b[0mexplode\u001b[0m\u001b[1;33m(\u001b[0m\u001b[1;33m)\u001b[0m\u001b[1;33m.\u001b[0m\u001b[0munique\u001b[0m\u001b[1;33m(\u001b[0m\u001b[1;33m)\u001b[0m \u001b[1;31m# получим список уникальных названий компаний\u001b[0m\u001b[1;33m\u001b[0m\u001b[1;33m\u001b[0m\u001b[0m\n\u001b[1;32m----> 4\u001b[1;33m \u001b[0mdata_20\u001b[0m\u001b[1;33m[\u001b[0m\u001b[0mdata_20\u001b[0m\u001b[1;33m[\u001b[0m\u001b[1;34m'production_companies'\u001b[0m\u001b[1;33m]\u001b[0m\u001b[1;33m.\u001b[0m\u001b[0mstr\u001b[0m\u001b[1;33m.\u001b[0m\u001b[0mcontains\u001b[0m\u001b[1;33m(\u001b[0m\u001b[1;34m'Warner Bros'\u001b[0m\u001b[1;33m)\u001b[0m\u001b[1;33m]\u001b[0m\u001b[1;33m\u001b[0m\u001b[1;33m\u001b[0m\u001b[0m\n\u001b[0m\u001b[0;32m      5\u001b[0m \u001b[0mdata_20\u001b[0m\u001b[1;33m.\u001b[0m\u001b[0mgroupby\u001b[0m\u001b[1;33m(\u001b[0m\u001b[1;33m[\u001b[0m\u001b[1;34m'release_year'\u001b[0m\u001b[1;33m]\u001b[0m\u001b[1;33m)\u001b[0m\u001b[1;33m[\u001b[0m\u001b[1;34m'profit'\u001b[0m\u001b[1;33m]\u001b[0m\u001b[1;33m.\u001b[0m\u001b[0mmax\u001b[0m\u001b[1;33m(\u001b[0m\u001b[1;33m)\u001b[0m\u001b[1;31m#.sort_values()\u001b[0m\u001b[1;33m\u001b[0m\u001b[1;33m\u001b[0m\u001b[0m\n",
      "\u001b[1;31mIndexError\u001b[0m: only integers, slices (`:`), ellipsis (`...`), numpy.newaxis (`None`) and integer or boolean arrays are valid indices"
     ]
    }
   ],
   "source": [
    "data_20 = data.copy()\n",
    "data_20['profit'] = data['revenue'] - data['budget'] #прибыль\n",
    "data_20 = data['production_companies'].str.split('|').explode().unique() # получим список уникальных названий компаний\n",
    "data_20[data_20['production_companies'].str.contains('Warner Bros')]\n",
    "data_20.groupby(['release_year'])['profit'].max()#.sort_values()"
   ]
  },
  {
   "cell_type": "code",
   "execution_count": 581,
   "metadata": {},
   "outputs": [
    {
     "data": {
      "text/plain": [
       "release_year\n",
       "2000     421388105\n",
       "2014     705119788\n",
       "2005     745921036\n",
       "2004     769838758\n",
       "2007     788212738\n",
       "2008     816921825\n",
       "2002     847287400\n",
       "2001     851475550\n",
       "2010     863171911\n",
       "2006     865659812\n",
       "2003    1024888979\n",
       "2013    1124219009\n",
       "2011    1202817822\n",
       "2012    1299557910\n",
       "2015    1868178225\n",
       "2009    2544505847\n",
       "Name: profit, dtype: int64"
      ]
     },
     "execution_count": 581,
     "metadata": {},
     "output_type": "execute_result"
    }
   ],
   "source": [
    "data_20 = data.copy()\n",
    "data_20['profit'] = data.revenue - data.budget #прибыль\n",
    "data_20['production_companies'] = data_20['production_companies'].str.split('|')\n",
    "data_20 = data_20.explode('production_companies')\n",
    "                                                                                    \n",
    "data_20[data_20['production_companies'].str.contains('Warner Bros')]\n",
    "\n",
    "\n",
    "\n",
    "#data_20.groupby('release_year').profit.max().sort_values(ascending=False)  \n",
    "#data_20.groupby(['release_year', 'production_companies']).profit.sum().value_counts()\n",
    "data_20.groupby(['release_year']).profit.max().sort_values()    \n",
    "\n",
    "#data_20[data_20['production_companies'].str.contains('Warner Bros')]\n",
    "#data_20[data_20.profit == data_20.profit.max()].release_year\n"
   ]
  },
  {
   "cell_type": "markdown",
   "metadata": {
    "colab_type": "text",
    "id": "8Im1S2HRVp_4"
   },
   "source": [
    "# 21. В каком месяце за все годы суммарно вышло больше всего фильмов?"
   ]
  },
  {
   "cell_type": "code",
   "execution_count": 766,
   "metadata": {
    "colab": {},
    "colab_type": "code",
    "id": "lev6TH7gVp_4"
   },
   "outputs": [],
   "source": [
    "answers['21'] = '4. Сентябрь'"
   ]
  },
  {
   "cell_type": "code",
   "execution_count": 623,
   "metadata": {},
   "outputs": [
    {
     "data": {
      "text/plain": [
       "9     227\n",
       "12    190\n",
       "10    186\n",
       "8     161\n",
       "3     156\n",
       "4     149\n",
       "6     147\n",
       "11    146\n",
       "7     142\n",
       "5     140\n",
       "2     135\n",
       "1     110\n",
       "Name: month, dtype: int64"
      ]
     },
     "execution_count": 623,
     "metadata": {},
     "output_type": "execute_result"
    }
   ],
   "source": [
    "data['month'] = pd.to_datetime(data.release_date).dt.month #преобразуем дату в год-месяц-число\n",
    "data['month'].value_counts()"
   ]
  },
  {
   "cell_type": "markdown",
   "metadata": {
    "colab_type": "text",
    "id": "uAJsZ_NeVp_7"
   },
   "source": [
    "# 22. Сколько суммарно вышло фильмов летом? (за июнь, июль, август)"
   ]
  },
  {
   "cell_type": "code",
   "execution_count": 767,
   "metadata": {},
   "outputs": [],
   "source": [
    "answers['22'] = '2. 450'"
   ]
  },
  {
   "cell_type": "code",
   "execution_count": 297,
   "metadata": {},
   "outputs": [
    {
     "data": {
      "text/plain": [
       "450"
      ]
     },
     "execution_count": 297,
     "metadata": {},
     "output_type": "execute_result"
    }
   ],
   "source": [
    "data['month'] = pd.to_datetime(data.release_date).dt.month\n",
    "\n",
    "data.release_date = pd.to_datetime(data.release_date)\n",
    "data[data.release_date.dt.month.isin([6,7,8])].shape[0]"
   ]
  },
  {
   "cell_type": "markdown",
   "metadata": {
    "colab_type": "text",
    "id": "G94ppOY1VqAA"
   },
   "source": [
    "# 23. Для какого режиссера зима – самое продуктивное время года? "
   ]
  },
  {
   "cell_type": "code",
   "execution_count": 768,
   "metadata": {
    "colab": {},
    "colab_type": "code",
    "id": "RhNTsamuVqAB"
   },
   "outputs": [],
   "source": [
    "answers['23'] ='5. Peter Jackson'"
   ]
  },
  {
   "cell_type": "code",
   "execution_count": 743,
   "metadata": {},
   "outputs": [
    {
     "data": {
      "text/plain": [
       "Peter Jackson        7\n",
       "Clint Eastwood       6\n",
       "Steven Soderbergh    6\n",
       "Shawn Levy           4\n",
       "Martin Scorsese      4\n",
       "                    ..\n",
       "D.J. Caruso          1\n",
       "Robert Zemeckis      1\n",
       "Tyler Perry          1\n",
       "Rob Bowman           1\n",
       "Gavin O'Connor       1\n",
       "Name: director, Length: 358, dtype: int64"
      ]
     },
     "execution_count": 743,
     "metadata": {},
     "output_type": "execute_result"
    }
   ],
   "source": [
    "data['month'] = pd.to_datetime(data.release_date).dt.month\n",
    "data.release_date = pd.to_datetime(data.release_date)\n",
    "data['director'] = data['director'].str.split('|')\n",
    "data = data.explode('director')\n",
    "data[data.release_date.dt.month.isin([12, 1, 2])].sort_values(by = 'director')\n",
    "data.groupby(['director']).director.count().sort_values(ascending=False)\n",
    "\n",
    "def season(date):\n",
    "\n",
    "    season = {'spring': [3, 4, 5],\n",
    "               'summer': [6, 7, 8],\n",
    "               'autumn': [9, 10, 11]}\n",
    "    if date in season['spring']:\n",
    "        return 'spring'\n",
    "    if date in season['summer']:\n",
    "        return 'summer'\n",
    "    if date in season['autumn']:\n",
    "        return 'autumn'\n",
    "    else:\n",
    "        return 'winter'\n",
    "data['season'] = data.release_date.dt.month.apply(season)\n",
    "data[data.season == 'winter'].director.value_counts()"
   ]
  },
  {
   "cell_type": "markdown",
   "metadata": {
    "colab_type": "text",
    "id": "RBo0JVjVVqAF"
   },
   "source": [
    "# 24. Какая студия дает самые длинные названия своим фильмам по количеству символов?"
   ]
  },
  {
   "cell_type": "code",
   "execution_count": 769,
   "metadata": {
    "colab": {},
    "colab_type": "code",
    "id": "QRGS8L0iVqAG"
   },
   "outputs": [],
   "source": [
    "answers['24'] = '5. Four By Two Productions'"
   ]
  },
  {
   "cell_type": "code",
   "execution_count": 587,
   "metadata": {},
   "outputs": [
    {
     "data": {
      "text/plain": [
       "Four By Two Productions      83.0\n",
       "Jim Henson Company, The      59.0\n",
       "Dos Corazones                47.0\n",
       "Museum Canada Productions    46.0\n",
       "Polsky Films                 46.0\n",
       "dtype: float64"
      ]
     },
     "execution_count": 587,
     "metadata": {},
     "output_type": "execute_result"
    }
   ],
   "source": [
    "data['title_length'] = data['original_title'].map(lambda x: len(x))# создадим столбец с длиной названия\n",
    "companies = data['production_companies'].str.split('|').explode().unique() # получим список уникальных названий компаний\n",
    "sum_gen = pd.Series(dtype='float64', index=companies) # создадим серию для хранения средних значений\n",
    "# по всему датафрейму для каждой из компаний вычислим среднее значение для всех названий фильмов созданных компанией\n",
    "for comp in companies:\n",
    "    sum_gen[comp] = data['title_length'][data['production_companies'].map(lambda x: True if comp in x else False)].mean()\n",
    "sum_gen.sort_values(ascending=False).head()# получим топ-5"
   ]
  },
  {
   "cell_type": "markdown",
   "metadata": {
    "colab_type": "text",
    "id": "9G0hbvR7VqAK"
   },
   "source": [
    "# 25. Описание фильмов какой студии в среднем самые длинные по количеству слов?"
   ]
  },
  {
   "cell_type": "code",
   "execution_count": 770,
   "metadata": {
    "colab": {},
    "colab_type": "code",
    "id": "Ge2GsLNxVqAK"
   },
   "outputs": [],
   "source": [
    "answers['25'] = '3. Midnight Picture Show'"
   ]
  },
  {
   "cell_type": "code",
   "execution_count": 636,
   "metadata": {},
   "outputs": [
    {
     "data": {
      "text/plain": [
       "'Midnight Picture Show'"
      ]
     },
     "execution_count": 636,
     "metadata": {},
     "output_type": "execute_result"
    }
   ],
   "source": [
    "data_25 = data.copy()\n",
    "data_25['overview_words_length'] = data_25.overview.map(lambda x: len(x.split(' ')))\n",
    "data_25['production_companies'] = data_25['production_companies'].str.split('|')\n",
    "data_25 = data_25.explode('production_companies')\n",
    "data_25.groupby('production_companies')['overview_words_length'].mean().sort_values(ascending=False).index[0]"
   ]
  },
  {
   "cell_type": "markdown",
   "metadata": {
    "colab_type": "text",
    "id": "FJ1AFt90VqAP"
   },
   "source": [
    "# 26. Какие фильмы входят в 1 процент лучших по рейтингу? \n",
    "по vote_average"
   ]
  },
  {
   "cell_type": "code",
   "execution_count": 771,
   "metadata": {
    "colab": {},
    "colab_type": "code",
    "id": "8qmJVq4CVqAQ"
   },
   "outputs": [],
   "source": [
    "answers['26'] ='1. Inside Out, The Dark Knight, 12 Years a Slave'"
   ]
  },
  {
   "cell_type": "code",
   "execution_count": 5,
   "metadata": {},
   "outputs": [
    {
     "data": {
      "text/plain": [
       "9       8.0\n",
       "34      8.0\n",
       "118     8.0\n",
       "119     7.9\n",
       "125     8.0\n",
       "128     7.9\n",
       "138     7.9\n",
       "370     7.9\n",
       "599     8.1\n",
       "872     7.9\n",
       "1081    7.9\n",
       "1183    7.9\n",
       "1191    7.9\n",
       "1800    7.9\n",
       "Name: vote_average, dtype: float64"
      ]
     },
     "execution_count": 5,
     "metadata": {},
     "output_type": "execute_result"
    }
   ],
   "source": [
    "data_26 = data.copy()\n",
    "stek = data_26['vote_average']\n",
    "data_26 = pd.Series(stek)\n",
    "data_26[data_26>data_26.quantile(0.99)]"
   ]
  },
  {
   "cell_type": "code",
   "execution_count": 7,
   "metadata": {},
   "outputs": [
    {
     "data": {
      "text/html": [
       "<div>\n",
       "<style scoped>\n",
       "    .dataframe tbody tr th:only-of-type {\n",
       "        vertical-align: middle;\n",
       "    }\n",
       "\n",
       "    .dataframe tbody tr th {\n",
       "        vertical-align: top;\n",
       "    }\n",
       "\n",
       "    .dataframe thead th {\n",
       "        text-align: right;\n",
       "    }\n",
       "</style>\n",
       "<table border=\"1\" class=\"dataframe\">\n",
       "  <thead>\n",
       "    <tr style=\"text-align: right;\">\n",
       "      <th></th>\n",
       "      <th>imdb_id</th>\n",
       "      <th>budget</th>\n",
       "      <th>revenue</th>\n",
       "      <th>original_title</th>\n",
       "      <th>cast</th>\n",
       "      <th>director</th>\n",
       "      <th>tagline</th>\n",
       "      <th>overview</th>\n",
       "      <th>runtime</th>\n",
       "      <th>genres</th>\n",
       "      <th>production_companies</th>\n",
       "      <th>release_date</th>\n",
       "      <th>vote_average</th>\n",
       "      <th>release_year</th>\n",
       "    </tr>\n",
       "  </thead>\n",
       "  <tbody>\n",
       "    <tr>\n",
       "      <th>125</th>\n",
       "      <td>tt2084970</td>\n",
       "      <td>14000000</td>\n",
       "      <td>233555708</td>\n",
       "      <td>The Imitation Game</td>\n",
       "      <td>Benedict Cumberbatch|Keira Knightley|Matthew G...</td>\n",
       "      <td>Morten Tyldum</td>\n",
       "      <td>The true enigma was the man who cracked the code.</td>\n",
       "      <td>Based on the real life story of legendary cryp...</td>\n",
       "      <td>113</td>\n",
       "      <td>History|Drama|Thriller|War</td>\n",
       "      <td>Black Bear Pictures|Bristol Automotive</td>\n",
       "      <td>11/14/2014</td>\n",
       "      <td>8.0</td>\n",
       "      <td>2014</td>\n",
       "    </tr>\n",
       "    <tr>\n",
       "      <th>34</th>\n",
       "      <td>tt3170832</td>\n",
       "      <td>6000000</td>\n",
       "      <td>35401758</td>\n",
       "      <td>Room</td>\n",
       "      <td>Brie Larson|Jacob Tremblay|Joan Allen|Sean Bri...</td>\n",
       "      <td>Lenny Abrahamson</td>\n",
       "      <td>Love knows no boundaries</td>\n",
       "      <td>Jack is a young boy of 5 years old who has liv...</td>\n",
       "      <td>117</td>\n",
       "      <td>Drama|Thriller</td>\n",
       "      <td>Element Pictures|No Trace Camping|A24|Duperele...</td>\n",
       "      <td>10/16/2015</td>\n",
       "      <td>8.0</td>\n",
       "      <td>2015</td>\n",
       "    </tr>\n",
       "    <tr>\n",
       "      <th>118</th>\n",
       "      <td>tt0816692</td>\n",
       "      <td>165000000</td>\n",
       "      <td>621752480</td>\n",
       "      <td>Interstellar</td>\n",
       "      <td>Matthew McConaughey|Jessica Chastain|Anne Hath...</td>\n",
       "      <td>Christopher Nolan</td>\n",
       "      <td>Mankind was born on Earth. It was never meant ...</td>\n",
       "      <td>Interstellar chronicles the adventures of a gr...</td>\n",
       "      <td>169</td>\n",
       "      <td>Adventure|Drama|Science Fiction</td>\n",
       "      <td>Paramount Pictures|Legendary Pictures|Warner B...</td>\n",
       "      <td>11/5/2014</td>\n",
       "      <td>8.0</td>\n",
       "      <td>2014</td>\n",
       "    </tr>\n",
       "    <tr>\n",
       "      <th>9</th>\n",
       "      <td>tt2096673</td>\n",
       "      <td>175000000</td>\n",
       "      <td>853708609</td>\n",
       "      <td>Inside Out</td>\n",
       "      <td>Amy Poehler|Phyllis Smith|Richard Kind|Bill Ha...</td>\n",
       "      <td>Pete Docter</td>\n",
       "      <td>Meet the little voices inside your head.</td>\n",
       "      <td>Growing up can be a bumpy road, and it's no ex...</td>\n",
       "      <td>94</td>\n",
       "      <td>Comedy|Animation|Family</td>\n",
       "      <td>Walt Disney Pictures|Pixar Animation Studios|W...</td>\n",
       "      <td>6/9/2015</td>\n",
       "      <td>8.0</td>\n",
       "      <td>2015</td>\n",
       "    </tr>\n",
       "  </tbody>\n",
       "</table>\n",
       "</div>"
      ],
      "text/plain": [
       "       imdb_id     budget    revenue      original_title  \\\n",
       "125  tt2084970   14000000  233555708  The Imitation Game   \n",
       "34   tt3170832    6000000   35401758                Room   \n",
       "118  tt0816692  165000000  621752480        Interstellar   \n",
       "9    tt2096673  175000000  853708609          Inside Out   \n",
       "\n",
       "                                                  cast           director  \\\n",
       "125  Benedict Cumberbatch|Keira Knightley|Matthew G...      Morten Tyldum   \n",
       "34   Brie Larson|Jacob Tremblay|Joan Allen|Sean Bri...   Lenny Abrahamson   \n",
       "118  Matthew McConaughey|Jessica Chastain|Anne Hath...  Christopher Nolan   \n",
       "9    Amy Poehler|Phyllis Smith|Richard Kind|Bill Ha...        Pete Docter   \n",
       "\n",
       "                                               tagline  \\\n",
       "125  The true enigma was the man who cracked the code.   \n",
       "34                            Love knows no boundaries   \n",
       "118  Mankind was born on Earth. It was never meant ...   \n",
       "9             Meet the little voices inside your head.   \n",
       "\n",
       "                                              overview  runtime  \\\n",
       "125  Based on the real life story of legendary cryp...      113   \n",
       "34   Jack is a young boy of 5 years old who has liv...      117   \n",
       "118  Interstellar chronicles the adventures of a gr...      169   \n",
       "9    Growing up can be a bumpy road, and it's no ex...       94   \n",
       "\n",
       "                              genres  \\\n",
       "125       History|Drama|Thriller|War   \n",
       "34                    Drama|Thriller   \n",
       "118  Adventure|Drama|Science Fiction   \n",
       "9            Comedy|Animation|Family   \n",
       "\n",
       "                                  production_companies release_date  \\\n",
       "125             Black Bear Pictures|Bristol Automotive   11/14/2014   \n",
       "34   Element Pictures|No Trace Camping|A24|Duperele...   10/16/2015   \n",
       "118  Paramount Pictures|Legendary Pictures|Warner B...    11/5/2014   \n",
       "9    Walt Disney Pictures|Pixar Animation Studios|W...     6/9/2015   \n",
       "\n",
       "     vote_average  release_year  \n",
       "125           8.0          2014  \n",
       "34            8.0          2015  \n",
       "118           8.0          2014  \n",
       "9             8.0          2015  "
      ]
     },
     "execution_count": 7,
     "metadata": {},
     "output_type": "execute_result"
    }
   ],
   "source": [
    "data[data['vote_average'] == 8].sort_values(by='original_title', ascending=False).head()"
   ]
  },
  {
   "cell_type": "code",
   "execution_count": 4,
   "metadata": {},
   "outputs": [
    {
     "data": {
      "text/html": [
       "<div>\n",
       "<style scoped>\n",
       "    .dataframe tbody tr th:only-of-type {\n",
       "        vertical-align: middle;\n",
       "    }\n",
       "\n",
       "    .dataframe tbody tr th {\n",
       "        vertical-align: top;\n",
       "    }\n",
       "\n",
       "    .dataframe thead th {\n",
       "        text-align: right;\n",
       "    }\n",
       "</style>\n",
       "<table border=\"1\" class=\"dataframe\">\n",
       "  <thead>\n",
       "    <tr style=\"text-align: right;\">\n",
       "      <th></th>\n",
       "      <th>vote_average</th>\n",
       "    </tr>\n",
       "    <tr>\n",
       "      <th>original_title</th>\n",
       "      <th></th>\n",
       "    </tr>\n",
       "  </thead>\n",
       "  <tbody>\n",
       "    <tr>\n",
       "      <th>(500) Days of Summer</th>\n",
       "      <td>7.3</td>\n",
       "    </tr>\n",
       "    <tr>\n",
       "      <th>10,000 BC</th>\n",
       "      <td>5.2</td>\n",
       "    </tr>\n",
       "    <tr>\n",
       "      <th>102 Dalmatians</th>\n",
       "      <td>5.0</td>\n",
       "    </tr>\n",
       "    <tr>\n",
       "      <th>12 Rounds</th>\n",
       "      <td>5.9</td>\n",
       "    </tr>\n",
       "    <tr>\n",
       "      <th>12 Years a Slave</th>\n",
       "      <td>7.9</td>\n",
       "    </tr>\n",
       "    <tr>\n",
       "      <th>127 Hours</th>\n",
       "      <td>6.9</td>\n",
       "    </tr>\n",
       "    <tr>\n",
       "      <th>13 Going On 30</th>\n",
       "      <td>6.1</td>\n",
       "    </tr>\n",
       "    <tr>\n",
       "      <th>1408</th>\n",
       "      <td>6.4</td>\n",
       "    </tr>\n",
       "    <tr>\n",
       "      <th>15 Minutes</th>\n",
       "      <td>5.7</td>\n",
       "    </tr>\n",
       "    <tr>\n",
       "      <th>16 Blocks</th>\n",
       "      <td>6.1</td>\n",
       "    </tr>\n",
       "  </tbody>\n",
       "</table>\n",
       "</div>"
      ],
      "text/plain": [
       "                      vote_average\n",
       "original_title                    \n",
       "(500) Days of Summer           7.3\n",
       "10,000 BC                      5.2\n",
       "102 Dalmatians                 5.0\n",
       "12 Rounds                      5.9\n",
       "12 Years a Slave               7.9\n",
       "127 Hours                      6.9\n",
       "13 Going On 30                 6.1\n",
       "1408                           6.4\n",
       "15 Minutes                     5.7\n",
       "16 Blocks                      6.1"
      ]
     },
     "execution_count": 4,
     "metadata": {},
     "output_type": "execute_result"
    }
   ],
   "source": [
    "data.groupby('original_title')[['vote_average']].agg(lambda g: np.percentile(g, 0.01)).head(10)"
   ]
  },
  {
   "cell_type": "markdown",
   "metadata": {
    "colab_type": "text",
    "id": "MdXsUXbCVqAV"
   },
   "source": [
    "# 27. Какие актеры чаще всего снимаются в одном фильме вместе?\n"
   ]
  },
  {
   "cell_type": "code",
   "execution_count": 772,
   "metadata": {},
   "outputs": [],
   "source": [
    "answers['27'] ='5. Daniel Radcliffe & Rupert Grint'"
   ]
  },
  {
   "cell_type": "code",
   "execution_count": 696,
   "metadata": {},
   "outputs": [
    {
     "data": {
      "text/plain": [
       "[(('Daniel Radcliffe', 'Rupert Grint'), 8),\n",
       " (('Daniel Radcliffe', 'Emma Watson'), 8),\n",
       " (('Rupert Grint', 'Emma Watson'), 7),\n",
       " (('Ben Stiller', 'Owen Wilson'), 6),\n",
       " (('Johnny Depp', 'Helena Bonham Carter'), 6)]"
      ]
     },
     "execution_count": 696,
     "metadata": {},
     "output_type": "execute_result"
    }
   ],
   "source": [
    "from itertools import combinations\n",
    "pairs = Counter()\n",
    "for i in range(0, len(data)):\n",
    "    artists = data.cast[i].split('|')\n",
    "    for j in list(combinations(artists, 2)):\n",
    "        if j not in pairs:\n",
    "            pairs[j] = 1\n",
    "        else:\n",
    "            pairs[j] += 1\n",
    "pairs.most_common(5)"
   ]
  },
  {
   "cell_type": "markdown",
   "metadata": {
    "colab_type": "text",
    "id": "4ymnxEVoVqAW"
   },
   "source": [
    "ВАРИАНТ 2"
   ]
  },
  {
   "cell_type": "markdown",
   "metadata": {
    "colab_type": "text",
    "id": "U0nONFnGVqAX"
   },
   "source": [
    "# Submission"
   ]
  },
  {
   "cell_type": "code",
   "execution_count": 773,
   "metadata": {
    "colab": {},
    "colab_type": "code",
    "id": "IfcaRO9-VqAX",
    "outputId": "0f132912-32bb-4196-c98c-abfbc4ad5a5f"
   },
   "outputs": [
    {
     "data": {
      "text/plain": [
       "{'1': '5. Pirates of the Caribbean: On Stranger Tides (tt1298650)',\n",
       " '2': '2. Gods and Generals (tt0279111)',\n",
       " '3': '3. Winnie the Pooh (tt1449283)',\n",
       " '4': '2. 110',\n",
       " '5': '1. 107 ',\n",
       " '6': '5. Avatar',\n",
       " '7': '5. The Lone Ranger',\n",
       " '8': '1. 1478',\n",
       " '9': '4. The Dark Knight',\n",
       " '10': '5. The Lone Ranger',\n",
       " '11': '3. Drama ',\n",
       " '12': '1. Drama',\n",
       " '13': '5. Peter Jackson',\n",
       " '14': '3. Robert Rodriguez',\n",
       " '15': '3. Chris Hemsworth',\n",
       " '16': '3. Matt Damon',\n",
       " '17': '2. Action',\n",
       " '18': '1. K-19: The Widowmaker (tt0267626)',\n",
       " '19': '5. 2015',\n",
       " '20': '3. 2012',\n",
       " '21': '4. Сентябрь',\n",
       " '22': '2. 450',\n",
       " '23': '5. Peter Jackson',\n",
       " '24': '5. Four By Two Productions',\n",
       " '25': '3. Midnight Picture Show',\n",
       " '26': '1. Inside Out, The Dark Knight, 12 Years a Slave',\n",
       " '27': '5. Daniel Radcliffe & Rupert Grint'}"
      ]
     },
     "execution_count": 773,
     "metadata": {},
     "output_type": "execute_result"
    }
   ],
   "source": [
    "# в конце можно посмотреть свои ответы к каждому вопросу\n",
    "answers"
   ]
  },
  {
   "cell_type": "code",
   "execution_count": 774,
   "metadata": {
    "colab": {},
    "colab_type": "code",
    "id": "SiRmHPl8VqAd"
   },
   "outputs": [
    {
     "data": {
      "text/plain": [
       "27"
      ]
     },
     "execution_count": 774,
     "metadata": {},
     "output_type": "execute_result"
    }
   ],
   "source": [
    "# и убедиться что ни чего не пропустил)\n",
    "len(answers)"
   ]
  },
  {
   "cell_type": "code",
   "execution_count": 0,
   "metadata": {
    "colab": {},
    "colab_type": "code",
    "id": "uCfuTkRbVqAg"
   },
   "outputs": [],
   "source": []
  },
  {
   "cell_type": "code",
   "execution_count": 0,
   "metadata": {
    "colab": {},
    "colab_type": "code",
    "id": "Vwx3NrkSVqAl"
   },
   "outputs": [],
   "source": []
  }
 ],
 "metadata": {
  "colab": {
   "name": "Copy of [SF-DST] Movies IMBD v4.1 TEMPLATE.ipynb",
   "provenance": []
  },
  "kernelspec": {
   "display_name": "Python 3",
   "language": "python",
   "name": "python3"
  },
  "language_info": {
   "codemirror_mode": {
    "name": "ipython",
    "version": 3
   },
   "file_extension": ".py",
   "mimetype": "text/x-python",
   "name": "python",
   "nbconvert_exporter": "python",
   "pygments_lexer": "ipython3",
   "version": "3.8.5"
  }
 },
 "nbformat": 4,
 "nbformat_minor": 1
}
